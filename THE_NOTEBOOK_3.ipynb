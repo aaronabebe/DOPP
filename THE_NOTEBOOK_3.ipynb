{
 "cells": [
  {
   "cell_type": "markdown",
   "metadata": {},
   "source": [
    "# __Predicting Extreme Poverty on a country-scale__"
   ]
  },
  {
   "cell_type": "code",
   "execution_count": 12,
   "metadata": {},
   "outputs": [],
   "source": [
    "import pandas as pd \n",
    "import warnings\n",
    "#import plots as plot\n",
    "from sklearn.model_selection import KFold\n",
    "from sklearn import linear_model\n",
    "from sklearn.model_selection import cross_val_score\n",
    "from sklearn import neighbors\n",
    "from sklearn.model_selection import GridSearchCV\n",
    "import category_encoders as ec\n",
    "from sklearn import preprocessing\n",
    "import numpy as np\n",
    "import plotly.express as px\n",
    "import plotly.graph_objects as go\n",
    "from sklearn.feature_selection import SelectKBest\n",
    "from sklearn.feature_selection import chi2\n",
    "from sklearn.feature_selection import f_classif\n",
    "from sklearn.feature_selection import mutual_info_classif\n",
    "from sklearn.preprocessing import MinMaxScaler\n",
    "from sklearn.ensemble import ExtraTreesClassifier\n",
    "\n",
    "warnings.filterwarnings('ignore')"
   ]
  },
  {
   "cell_type": "markdown",
   "metadata": {},
   "source": [
    "# TODO - DELETE THIS FOR SUBMISSION\n",
    "Which dataset(s) did you choose? Why? How did you clean/transform the data? Why? How did you solve the\n",
    "problem of missing values? Why? What questions did you ask of the data? Why were these\n",
    "good questions? What were the answers to these questions? How did you obtain them? Do\n",
    "the answers make sense? Were there any difficulties in analysing the data? What were the\n",
    "key insights obtained? Which Data Science tools and techniques were learned during this\n",
    "exercise? How was the work divided up between the members of the group"
   ]
  },
  {
   "cell_type": "markdown",
   "metadata": {},
   "source": [
    "## Index\n",
    "1. Data Exploration and Data Preparation\n",
    "    * 1.1 Data Transformation\n",
    "    * 1.2 Target Column\n",
    "    * 1.3 Feature Overview\n",
    "    * 1.4 Data Imputation\n",
    "    * 1.5 Data Vizualization & Exploration\n",
    "2. Answering the 3 Questions\n",
    "    * 2.1 What percentage of the world population lives in extreme poverty?\n",
    "    * 2.2 Which characteristics are predictive for countries with large populations living in extreme poverty?\n",
    "    * 2.3 Which characteristics are predictive for populations emerging from extreme poverty?\n",
    "3. Conclusions\n",
    "    * 3.1 Comparing Q1 and Q2"
   ]
  },
  {
   "cell_type": "markdown",
   "metadata": {},
   "source": [
    "# 1 Data Exploration and Data Preparation"
   ]
  },
  {
   "cell_type": "markdown",
   "metadata": {},
   "source": [
    "## The Data Set\n",
    "\n",
    "TODO: Explain this"
   ]
  },
  {
   "cell_type": "markdown",
   "metadata": {},
   "source": [
    "## 1.1 Data Transformation"
   ]
  },
  {
   "cell_type": "code",
   "execution_count": 13,
   "metadata": {},
   "outputs": [],
   "source": [
    "# READ SOURCE CSV\n",
    "raw = pd.read_csv(\"unesco_poverty_dataset.csv\") \n",
    "keys = raw.DEMO_IND.unique() \n",
    "\n",
    "# DEFINE BASE CSV\n",
    "base = raw[['LOCATION', 'TIME']]\n",
    "\n",
    "# FOR EVERY VAR JOIN ON LOCATION & TIME \n",
    "for i in range(0,len(keys)):\n",
    "    loop = raw.loc[raw.DEMO_IND == keys[i]]\n",
    "    base = pd.merge(base, loop[['LOCATION', 'TIME', 'Value']],  how='left', left_on=['LOCATION','TIME'], right_on = ['LOCATION','TIME']) \n",
    "    base.columns = base.columns.str.replace('Value', keys[i])\n",
    "\n",
    "# DROP DUPLICATES\n",
    "base = base.drop_duplicates()"
   ]
  },
  {
   "cell_type": "markdown",
   "metadata": {},
   "source": [
    "## 1.2 Target Column\n",
    "_what is the target column supposed to be?_    \n",
    "There are 3 different metrics to count the GNI of a state: __LCU, Atlas, PPP__, so which is the correct one?   \n",
    "\n",
    "The Poverty Threshold changed throughout the years: \n",
    "* 1/day in 1996 (measure unknown)   \n",
    "* 1.25/day in 2005 (measure unknown, presumably Atlas)   \n",
    "* 1.9/day in 2015 (PPP)   \n",
    "_the $ values being average per capita income of a person per day_   \n",
    "\n",
    "[World Bank Press Release, October 2015]('https://www.worldbank.org/en/news/press-release/2015/10/04/world-bank-forecasts-global-poverty-to-fall-below-10-for-first-time-major-hurdles-remain-in-goal-to-end-poverty-by-2030')"
   ]
  },
  {
   "cell_type": "code",
   "execution_count": 14,
   "metadata": {},
   "outputs": [
    {
     "name": "stdout",
     "output_type": "stream",
     "text": [
      "From 1970-2019, all countries considered, 29.61 % have lived in extreme poverty at least once.\n"
     ]
    }
   ],
   "source": [
    "# SEPARATE INTO 3 SUB-TABLES: 1970-2004, 2005-2014, 2015-2019\n",
    "sub_0 = base[base['TIME'] < 2005]\n",
    "sub_1 = base[(base['TIME'] >= 2005) & (base['TIME'] < 2015)]\n",
    "sub_2 = base[base['TIME'] >= 2015]\n",
    "\n",
    "# WRITE TARGET VARIABLES\n",
    "sub_0['poverty'] = base['NY_GNP_PCAP_CN'].apply(lambda x: (x / 365) < 1)\n",
    "sub_1['poverty'] = base['NY_GNP_PCAP_CD'].apply(lambda x: (x / 365) < 1.25)\n",
    "sub_2['poverty'] = base['NY_GNP_PCAP_PP_CD'].apply(lambda x: (x / 365) < 1.9)\n",
    "\n",
    "# RE-CONCAT SUB-DATAFRAMES\n",
    "base = pd.concat([sub_0, sub_1, sub_2])\n",
    "\n",
    "# SHOW HOW MANY COUNTRIES WERE POOR AT LEAST ONCE\n",
    "poor = base[base['poverty'] == True]\n",
    "perc_poor_countries_ever = round(poor['LOCATION'].drop_duplicates().shape[0] / base['LOCATION'].drop_duplicates().shape[0] * 100,2)\n",
    "\n",
    "print('From 1970-2019, all countries considered,', perc_poor_countries_ever, '% have lived in extreme poverty at least once.')"
   ]
  },
  {
   "cell_type": "markdown",
   "metadata": {},
   "source": [
    "## 1.3 Features"
   ]
  },
  {
   "cell_type": "code",
   "execution_count": 15,
   "metadata": {
    "scrolled": true
   },
   "outputs": [
    {
     "data": {
      "text/html": [
       "<div>\n",
       "<style scoped>\n",
       "    .dataframe tbody tr th:only-of-type {\n",
       "        vertical-align: middle;\n",
       "    }\n",
       "\n",
       "    .dataframe tbody tr th {\n",
       "        vertical-align: top;\n",
       "    }\n",
       "\n",
       "    .dataframe thead th {\n",
       "        text-align: right;\n",
       "    }\n",
       "</style>\n",
       "<table border=\"1\" class=\"dataframe\">\n",
       "  <thead>\n",
       "    <tr style=\"text-align: right;\">\n",
       "      <th></th>\n",
       "      <th>descriptions</th>\n",
       "      <th>na_percent</th>\n",
       "      <th>na_total</th>\n",
       "      <th>minimum</th>\n",
       "      <th>maximum</th>\n",
       "    </tr>\n",
       "  </thead>\n",
       "  <tbody>\n",
       "    <tr>\n",
       "      <td>LOCATION</td>\n",
       "      <td>LOCATION</td>\n",
       "      <td>0.00</td>\n",
       "      <td>0</td>\n",
       "      <td>ABW</td>\n",
       "      <td>ZZA</td>\n",
       "    </tr>\n",
       "    <tr>\n",
       "      <td>TIME</td>\n",
       "      <td>TIME</td>\n",
       "      <td>0.00</td>\n",
       "      <td>0</td>\n",
       "      <td>1970</td>\n",
       "      <td>2019</td>\n",
       "    </tr>\n",
       "    <tr>\n",
       "      <td>SP_DYN_TFRT_IN</td>\n",
       "      <td>Fertility rate, total (births per woman)</td>\n",
       "      <td>19.16</td>\n",
       "      <td>2231</td>\n",
       "      <td>0.827</td>\n",
       "      <td>8.866</td>\n",
       "    </tr>\n",
       "    <tr>\n",
       "      <td>SP_DYN_LE00_IN</td>\n",
       "      <td>Life expectancy at birth, total (years)</td>\n",
       "      <td>19.30</td>\n",
       "      <td>2247</td>\n",
       "      <td>18.907</td>\n",
       "      <td>85.4171</td>\n",
       "    </tr>\n",
       "    <tr>\n",
       "      <td>SP_DYN_IMRT_IN</td>\n",
       "      <td>Mortality rate, infant (per 1,000 live births)</td>\n",
       "      <td>24.68</td>\n",
       "      <td>2873</td>\n",
       "      <td>1.6</td>\n",
       "      <td>218.7</td>\n",
       "    </tr>\n",
       "    <tr>\n",
       "      <td>SP_POP_GROW</td>\n",
       "      <td>Population growth (annual %)</td>\n",
       "      <td>11.74</td>\n",
       "      <td>1367</td>\n",
       "      <td>-9.08064</td>\n",
       "      <td>19.5973</td>\n",
       "    </tr>\n",
       "    <tr>\n",
       "      <td>SH_DYN_AIDS_ZS</td>\n",
       "      <td>Prevalence of HIV, total (% of population ages...</td>\n",
       "      <td>67.29</td>\n",
       "      <td>7834</td>\n",
       "      <td>0.1</td>\n",
       "      <td>28.4</td>\n",
       "    </tr>\n",
       "    <tr>\n",
       "      <td>SP_RUR_TOTL_ZS</td>\n",
       "      <td>Rural population (% of total population)</td>\n",
       "      <td>15.17</td>\n",
       "      <td>1766</td>\n",
       "      <td>0.02</td>\n",
       "      <td>97.155</td>\n",
       "    </tr>\n",
       "    <tr>\n",
       "      <td>NY_GDP_MKTP_CN</td>\n",
       "      <td>GDP (current LCU)</td>\n",
       "      <td>23.53</td>\n",
       "      <td>2739</td>\n",
       "      <td>0.00815</td>\n",
       "      <td>1.53165e+16</td>\n",
       "    </tr>\n",
       "    <tr>\n",
       "      <td>NY_GDP_MKTP_CD</td>\n",
       "      <td>GDP (current US$)</td>\n",
       "      <td>28.35</td>\n",
       "      <td>3301</td>\n",
       "      <td>8.82445e+06</td>\n",
       "      <td>1.94854e+13</td>\n",
       "    </tr>\n",
       "    <tr>\n",
       "      <td>NY_GDP_DEFL_ZS</td>\n",
       "      <td>GDP deflator (base year varies by country)</td>\n",
       "      <td>31.10</td>\n",
       "      <td>3621</td>\n",
       "      <td>0.00508</td>\n",
       "      <td>7018.63</td>\n",
       "    </tr>\n",
       "    <tr>\n",
       "      <td>NY_GDP_MKTP_KD_ZG</td>\n",
       "      <td>GDP growth (annual %)</td>\n",
       "      <td>30.02</td>\n",
       "      <td>3495</td>\n",
       "      <td>-64.0471</td>\n",
       "      <td>149.973</td>\n",
       "    </tr>\n",
       "    <tr>\n",
       "      <td>NY_GDP_PCAP_CD</td>\n",
       "      <td>GDP per capita (current US$)</td>\n",
       "      <td>28.38</td>\n",
       "      <td>3304</td>\n",
       "      <td>57.6352</td>\n",
       "      <td>185153</td>\n",
       "    </tr>\n",
       "    <tr>\n",
       "      <td>NY_GDP_PCAP_PP_CD</td>\n",
       "      <td>GDP per capita, PPP (current international $)</td>\n",
       "      <td>55.54</td>\n",
       "      <td>6466</td>\n",
       "      <td>241.944</td>\n",
       "      <td>140334</td>\n",
       "    </tr>\n",
       "    <tr>\n",
       "      <td>NY_GDP_MKTP_PP_CD</td>\n",
       "      <td>GDP, PPP (current international $)</td>\n",
       "      <td>55.51</td>\n",
       "      <td>6463</td>\n",
       "      <td>1.36929e+07</td>\n",
       "      <td>2.33502e+13</td>\n",
       "    </tr>\n",
       "    <tr>\n",
       "      <td>XTGOV_IMF</td>\n",
       "      <td>General government total expenditure (current ...</td>\n",
       "      <td>53.18</td>\n",
       "      <td>6191</td>\n",
       "      <td>1e+06</td>\n",
       "      <td>4.2365e+15</td>\n",
       "    </tr>\n",
       "    <tr>\n",
       "      <td>NY_GNP_PCAP_CD</td>\n",
       "      <td>GNI per capita, Atlas method (current US$)</td>\n",
       "      <td>35.70</td>\n",
       "      <td>4156</td>\n",
       "      <td>60</td>\n",
       "      <td>121650</td>\n",
       "    </tr>\n",
       "    <tr>\n",
       "      <td>NY_GNP_PCAP_PP_CD</td>\n",
       "      <td>GNI per capita, PPP (current international $)</td>\n",
       "      <td>56.74</td>\n",
       "      <td>6606</td>\n",
       "      <td>230</td>\n",
       "      <td>128320</td>\n",
       "    </tr>\n",
       "    <tr>\n",
       "      <td>SI_POV_DDAY</td>\n",
       "      <td>Poverty headcount ratio at $1.90 a day (PPP) (...</td>\n",
       "      <td>89.12</td>\n",
       "      <td>10375</td>\n",
       "      <td>0.1</td>\n",
       "      <td>94.1</td>\n",
       "    </tr>\n",
       "    <tr>\n",
       "      <td>PA_NUS_PPP</td>\n",
       "      <td>PPP conversion factor, GDP (LCU per internatio...</td>\n",
       "      <td>55.95</td>\n",
       "      <td>6514</td>\n",
       "      <td>0.00514</td>\n",
       "      <td>12437.2</td>\n",
       "    </tr>\n",
       "    <tr>\n",
       "      <td>DT_TDS_DECT_GN_ZS</td>\n",
       "      <td>Total debt service (% of GNI)</td>\n",
       "      <td>61.30</td>\n",
       "      <td>7137</td>\n",
       "      <td>0.00533</td>\n",
       "      <td>102.222</td>\n",
       "    </tr>\n",
       "    <tr>\n",
       "      <td>200101</td>\n",
       "      <td>Total population</td>\n",
       "      <td>3.26</td>\n",
       "      <td>380</td>\n",
       "      <td>0.642</td>\n",
       "      <td>1.43378e+06</td>\n",
       "    </tr>\n",
       "    <tr>\n",
       "      <td>200151</td>\n",
       "      <td>Population aged 65 years or older</td>\n",
       "      <td>3.26</td>\n",
       "      <td>380</td>\n",
       "      <td>0.039</td>\n",
       "      <td>164486</td>\n",
       "    </tr>\n",
       "    <tr>\n",
       "      <td>200345</td>\n",
       "      <td>Population aged 25-64 years</td>\n",
       "      <td>3.26</td>\n",
       "      <td>380</td>\n",
       "      <td>0.346</td>\n",
       "      <td>843081</td>\n",
       "    </tr>\n",
       "    <tr>\n",
       "      <td>200343</td>\n",
       "      <td>Population aged 14 years or younger</td>\n",
       "      <td>3.26</td>\n",
       "      <td>380</td>\n",
       "      <td>0.063</td>\n",
       "      <td>380433</td>\n",
       "    </tr>\n",
       "    <tr>\n",
       "      <td>200144</td>\n",
       "      <td>Population aged 15-24 years</td>\n",
       "      <td>3.26</td>\n",
       "      <td>380</td>\n",
       "      <td>0.04</td>\n",
       "      <td>256149</td>\n",
       "    </tr>\n",
       "    <tr>\n",
       "      <td>NY_GNP_PCAP_CN</td>\n",
       "      <td>GNI per capita (current LCU)</td>\n",
       "      <td>31.22</td>\n",
       "      <td>3635</td>\n",
       "      <td>0.00561</td>\n",
       "      <td>1.89065e+08</td>\n",
       "    </tr>\n",
       "    <tr>\n",
       "      <td>NY_GDP_MKTP_KD</td>\n",
       "      <td>GDP at market prices (constant 2010 US$)</td>\n",
       "      <td>31.17</td>\n",
       "      <td>3629</td>\n",
       "      <td>2.1442e+07</td>\n",
       "      <td>1.73486e+13</td>\n",
       "    </tr>\n",
       "    <tr>\n",
       "      <td>PA_NUS_PPPC_RF</td>\n",
       "      <td>Price level ratio of PPP conversion factor (GD...</td>\n",
       "      <td>56.07</td>\n",
       "      <td>6528</td>\n",
       "      <td>0.10106</td>\n",
       "      <td>1.85566</td>\n",
       "    </tr>\n",
       "    <tr>\n",
       "      <td>PA_NUS_FCRF</td>\n",
       "      <td>Official exchange rate (LCU per US$, period av...</td>\n",
       "      <td>21.45</td>\n",
       "      <td>2497</td>\n",
       "      <td>0.00512</td>\n",
       "      <td>33226.3</td>\n",
       "    </tr>\n",
       "    <tr>\n",
       "      <td>NY_GDP_MKTP_KN</td>\n",
       "      <td>GDP (constant LCU)</td>\n",
       "      <td>29.05</td>\n",
       "      <td>3382</td>\n",
       "      <td>2.10104e+07</td>\n",
       "      <td>9.9127e+15</td>\n",
       "    </tr>\n",
       "    <tr>\n",
       "      <td>PA_NUS_ATLS</td>\n",
       "      <td>DEC alternative conversion factor (LCU per US$)</td>\n",
       "      <td>26.50</td>\n",
       "      <td>3085</td>\n",
       "      <td>0.005</td>\n",
       "      <td>33735.9</td>\n",
       "    </tr>\n",
       "    <tr>\n",
       "      <td>PA_NUS_PRVT_PP</td>\n",
       "      <td>PPP conversion factor, private consumption (LC...</td>\n",
       "      <td>59.59</td>\n",
       "      <td>6938</td>\n",
       "      <td>0.00507</td>\n",
       "      <td>14041.2</td>\n",
       "    </tr>\n",
       "    <tr>\n",
       "      <td>NY_GNP_MKTP_CN</td>\n",
       "      <td>GNI (current LCU)</td>\n",
       "      <td>26.58</td>\n",
       "      <td>3095</td>\n",
       "      <td>0.06966</td>\n",
       "      <td>1.5345e+16</td>\n",
       "    </tr>\n",
       "    <tr>\n",
       "      <td>NY_GDP_PCAP_PP_KD</td>\n",
       "      <td>GDP per capita, PPP (constant 2011 internation...</td>\n",
       "      <td>55.57</td>\n",
       "      <td>6469</td>\n",
       "      <td>354.285</td>\n",
       "      <td>135319</td>\n",
       "    </tr>\n",
       "    <tr>\n",
       "      <td>NY_GDP_MKTP_PP_KD</td>\n",
       "      <td>GDP, PPP (constant 2011 international $)</td>\n",
       "      <td>55.54</td>\n",
       "      <td>6466</td>\n",
       "      <td>2.11905e+07</td>\n",
       "      <td>2.12239e+13</td>\n",
       "    </tr>\n",
       "    <tr>\n",
       "      <td>NY_GDP_PCAP_CN</td>\n",
       "      <td>GDP per capita (current LCU)</td>\n",
       "      <td>27.38</td>\n",
       "      <td>3188</td>\n",
       "      <td>0.00527</td>\n",
       "      <td>1.88714e+08</td>\n",
       "    </tr>\n",
       "    <tr>\n",
       "      <td>poverty</td>\n",
       "      <td>poverty</td>\n",
       "      <td>0.00</td>\n",
       "      <td>0</td>\n",
       "      <td>False</td>\n",
       "      <td>True</td>\n",
       "    </tr>\n",
       "  </tbody>\n",
       "</table>\n",
       "</div>"
      ],
      "text/plain": [
       "                                                        descriptions  \\\n",
       "LOCATION                                                    LOCATION   \n",
       "TIME                                                            TIME   \n",
       "SP_DYN_TFRT_IN              Fertility rate, total (births per woman)   \n",
       "SP_DYN_LE00_IN               Life expectancy at birth, total (years)   \n",
       "SP_DYN_IMRT_IN        Mortality rate, infant (per 1,000 live births)   \n",
       "SP_POP_GROW                             Population growth (annual %)   \n",
       "SH_DYN_AIDS_ZS     Prevalence of HIV, total (% of population ages...   \n",
       "SP_RUR_TOTL_ZS              Rural population (% of total population)   \n",
       "NY_GDP_MKTP_CN                                     GDP (current LCU)   \n",
       "NY_GDP_MKTP_CD                                     GDP (current US$)   \n",
       "NY_GDP_DEFL_ZS            GDP deflator (base year varies by country)   \n",
       "NY_GDP_MKTP_KD_ZG                              GDP growth (annual %)   \n",
       "NY_GDP_PCAP_CD                          GDP per capita (current US$)   \n",
       "NY_GDP_PCAP_PP_CD      GDP per capita, PPP (current international $)   \n",
       "NY_GDP_MKTP_PP_CD                 GDP, PPP (current international $)   \n",
       "XTGOV_IMF          General government total expenditure (current ...   \n",
       "NY_GNP_PCAP_CD            GNI per capita, Atlas method (current US$)   \n",
       "NY_GNP_PCAP_PP_CD      GNI per capita, PPP (current international $)   \n",
       "SI_POV_DDAY        Poverty headcount ratio at $1.90 a day (PPP) (...   \n",
       "PA_NUS_PPP         PPP conversion factor, GDP (LCU per internatio...   \n",
       "DT_TDS_DECT_GN_ZS                      Total debt service (% of GNI)   \n",
       "200101                                             Total population    \n",
       "200151                            Population aged 65 years or older    \n",
       "200345                                  Population aged 25-64 years    \n",
       "200343                          Population aged 14 years or younger    \n",
       "200144                                  Population aged 15-24 years    \n",
       "NY_GNP_PCAP_CN                          GNI per capita (current LCU)   \n",
       "NY_GDP_MKTP_KD              GDP at market prices (constant 2010 US$)   \n",
       "PA_NUS_PPPC_RF     Price level ratio of PPP conversion factor (GD...   \n",
       "PA_NUS_FCRF        Official exchange rate (LCU per US$, period av...   \n",
       "NY_GDP_MKTP_KN                                    GDP (constant LCU)   \n",
       "PA_NUS_ATLS          DEC alternative conversion factor (LCU per US$)   \n",
       "PA_NUS_PRVT_PP     PPP conversion factor, private consumption (LC...   \n",
       "NY_GNP_MKTP_CN                                     GNI (current LCU)   \n",
       "NY_GDP_PCAP_PP_KD  GDP per capita, PPP (constant 2011 internation...   \n",
       "NY_GDP_MKTP_PP_KD           GDP, PPP (constant 2011 international $)   \n",
       "NY_GDP_PCAP_CN                          GDP per capita (current LCU)   \n",
       "poverty                                                      poverty   \n",
       "\n",
       "                   na_percent  na_total      minimum      maximum  \n",
       "LOCATION                 0.00         0          ABW          ZZA  \n",
       "TIME                     0.00         0         1970         2019  \n",
       "SP_DYN_TFRT_IN          19.16      2231        0.827        8.866  \n",
       "SP_DYN_LE00_IN          19.30      2247       18.907      85.4171  \n",
       "SP_DYN_IMRT_IN          24.68      2873          1.6        218.7  \n",
       "SP_POP_GROW             11.74      1367     -9.08064      19.5973  \n",
       "SH_DYN_AIDS_ZS          67.29      7834          0.1         28.4  \n",
       "SP_RUR_TOTL_ZS          15.17      1766         0.02       97.155  \n",
       "NY_GDP_MKTP_CN          23.53      2739      0.00815  1.53165e+16  \n",
       "NY_GDP_MKTP_CD          28.35      3301  8.82445e+06  1.94854e+13  \n",
       "NY_GDP_DEFL_ZS          31.10      3621      0.00508      7018.63  \n",
       "NY_GDP_MKTP_KD_ZG       30.02      3495     -64.0471      149.973  \n",
       "NY_GDP_PCAP_CD          28.38      3304      57.6352       185153  \n",
       "NY_GDP_PCAP_PP_CD       55.54      6466      241.944       140334  \n",
       "NY_GDP_MKTP_PP_CD       55.51      6463  1.36929e+07  2.33502e+13  \n",
       "XTGOV_IMF               53.18      6191        1e+06   4.2365e+15  \n",
       "NY_GNP_PCAP_CD          35.70      4156           60       121650  \n",
       "NY_GNP_PCAP_PP_CD       56.74      6606          230       128320  \n",
       "SI_POV_DDAY             89.12     10375          0.1         94.1  \n",
       "PA_NUS_PPP              55.95      6514      0.00514      12437.2  \n",
       "DT_TDS_DECT_GN_ZS       61.30      7137      0.00533      102.222  \n",
       "200101                   3.26       380        0.642  1.43378e+06  \n",
       "200151                   3.26       380        0.039       164486  \n",
       "200345                   3.26       380        0.346       843081  \n",
       "200343                   3.26       380        0.063       380433  \n",
       "200144                   3.26       380         0.04       256149  \n",
       "NY_GNP_PCAP_CN          31.22      3635      0.00561  1.89065e+08  \n",
       "NY_GDP_MKTP_KD          31.17      3629   2.1442e+07  1.73486e+13  \n",
       "PA_NUS_PPPC_RF          56.07      6528      0.10106      1.85566  \n",
       "PA_NUS_FCRF             21.45      2497      0.00512      33226.3  \n",
       "NY_GDP_MKTP_KN          29.05      3382  2.10104e+07   9.9127e+15  \n",
       "PA_NUS_ATLS             26.50      3085        0.005      33735.9  \n",
       "PA_NUS_PRVT_PP          59.59      6938      0.00507      14041.2  \n",
       "NY_GNP_MKTP_CN          26.58      3095      0.06966   1.5345e+16  \n",
       "NY_GDP_PCAP_PP_KD       55.57      6469      354.285       135319  \n",
       "NY_GDP_MKTP_PP_KD       55.54      6466  2.11905e+07  2.12239e+13  \n",
       "NY_GDP_PCAP_CN          27.38      3188      0.00527  1.88714e+08  \n",
       "poverty                  0.00         0        False         True  "
      ]
     },
     "execution_count": 15,
     "metadata": {},
     "output_type": "execute_result"
    }
   ],
   "source": [
    "# GET DATA PER COLUMN\n",
    "na_percent = []\n",
    "na_total = []\n",
    "minimum = []\n",
    "maximum = []\n",
    "for col in base.columns:\n",
    "    na_percent.append(round(base[col].isna().sum() / base.shape[0] * 100, 2))\n",
    "    na_total.append(base[col].isna().sum())\n",
    "    minimum.append(base[col].min())\n",
    "    maximum.append(base[col].max())\n",
    "\n",
    "# GET VARIABLE DESCRIPTIONS\n",
    "descriptions = raw['Indicator'].drop_duplicates().tolist()\n",
    "descriptions.insert(0, 'LOCATION')\n",
    "descriptions.insert(1, 'TIME')\n",
    "descriptions.insert(38, 'poverty')\n",
    "\n",
    "features = pd.DataFrame(\n",
    "    {'descriptions': descriptions, \n",
    "    'na_percent': na_percent, \n",
    "    'na_total': na_total,\n",
    "    'minimum': minimum,\n",
    "    'maximum': maximum},\n",
    "    index=base.columns) \n",
    "\n",
    "features"
   ]
  },
  {
   "cell_type": "markdown",
   "metadata": {},
   "source": [
    "## 1.4 Data Imputation"
   ]
  },
  {
   "cell_type": "code",
   "execution_count": 16,
   "metadata": {},
   "outputs": [],
   "source": [
    "# READ TRANSFORMED CSV FILE\n",
    "raw = pd.read_csv(\"transformed.csv\")  \n",
    "feature_descriptions = pd.read_csv(\"feature_descriptions.csv\")\n",
    "\n",
    "# FEATURES WITH LESS THAN 50% MISSING VALUES\n",
    "features = feature_descriptions.where(feature_descriptions['na_percent']<=50.0).dropna(0)\n",
    "\n",
    "# ONLY DEMOGRAFIC FEATURES!\n",
    "#cols_to_drop = 7:13 + 18:25\n",
    "cols = features['Unnamed: 0'].tolist()\n",
    "cols = cols[0:7]+ cols[13:18] + [cols[25]]\n",
    "dataset = raw[cols]\n",
    "    \n",
    "by_country = dataset.groupby(by=dataset['LOCATION'])  \n",
    "dataset_full = pd.DataFrame(columns=cols)\n",
    "dataset_full2 = pd.DataFrame(columns=cols)\n",
    "\n",
    "\n",
    "for name, group in by_country :\n",
    "    tdf = pd.DataFrame(columns=cols)\n",
    "    tdf2 = pd.DataFrame(columns=cols) \n",
    "\n",
    "    tdf['TIME'] = group['TIME']\n",
    "    tdf['poverty'] = group['poverty']\n",
    "\n",
    "    # cols with all NaN values\n",
    "    all_null = group.isna().all()  \n",
    "    null_cols = all_null.where(all_null == 1).dropna(0).index.tolist()\n",
    "    tdf[null_cols] = 0\n",
    "\n",
    "    # cols for interpolation\n",
    "    cols_to_int = all_null.where(all_null == 0).dropna(0).index.tolist()[2:]\n",
    "    cols_to_int.remove('poverty')\n",
    "\n",
    "    tdf[cols_to_int] = group[cols_to_int].interpolate(method='linear', axis=0)\n",
    "    tdf['LOCATION'] = name \n",
    "\n",
    "    # fill the NaN values that were not interpolated\n",
    "    tdf.fillna(tdf.mean(), inplace=True)\n",
    "\n",
    "    # Another way to interpolate - take mean for the cols with all NaNs\n",
    "    tdf2 = group.interpolate(method ='linear', limit_direction ='forward', axis = 0)\n",
    "    tdf2 = tdf2.interpolate(method ='linear', limit_direction ='backward', axis = 0)\n",
    "    tdf2['LOCATION'] = name\n",
    "    tdf2.fillna(dataset.drop(labels=['LOCATION'], axis=1).mean(), inplace=True)\n",
    "    dataset_full2 = pd.concat([dataset_full2,tdf2])\n",
    "    \n",
    "    dataset_full = pd.concat([dataset_full,tdf])\n",
    "\n",
    "# NA -> mean    \n",
    "dataset_full2.sort_index(inplace=True)\n",
    "# NA -> 0\n",
    "dataset_full.sort_index(inplace=True)\n",
    "\n",
    "# dataset_full2.head(100)"
   ]
  },
  {
   "cell_type": "markdown",
   "metadata": {},
   "source": [
    "## 1.5 Visualizations & Data Exploration"
   ]
  },
  {
   "cell_type": "code",
   "execution_count": 17,
   "metadata": {},
   "outputs": [],
   "source": [
    "pass"
   ]
  },
  {
   "cell_type": "markdown",
   "metadata": {},
   "source": [
    "# 2 Answering the Questions"
   ]
  },
  {
   "cell_type": "markdown",
   "metadata": {},
   "source": [
    "## 2.1 - What percentage of the world population lives in extreme poverty?"
   ]
  },
  {
   "cell_type": "code",
   "execution_count": 18,
   "metadata": {},
   "outputs": [
    {
     "data": {
      "application/vnd.plotly.v1+json": {
       "config": {
        "plotlyServerURL": "https://plot.ly"
       },
       "data": [
        {
         "hoverlabel": {
          "namelength": 0
         },
         "hovertemplate": "TIME=%{x}<br>PERCENT=%{y}",
         "legendgroup": "",
         "line": {
          "color": "#636efa",
          "dash": "solid"
         },
         "mode": "lines",
         "name": "",
         "showlegend": false,
         "type": "scatter",
         "x": [
          1970,
          1971,
          1972,
          1973,
          1974,
          1975,
          1976,
          1977,
          1978,
          1979,
          1980,
          1981,
          1982,
          1983,
          1984,
          1985,
          1986,
          1987,
          1988,
          1989,
          1990,
          1991,
          1992,
          1993,
          1994,
          1995,
          1996,
          1997,
          1998,
          1999,
          2000,
          2001,
          2002,
          2003,
          2004,
          2005,
          2006,
          2007,
          2008,
          2009,
          2010,
          2011,
          2012,
          2013,
          2014,
          2015,
          2016
         ],
         "xaxis": "x",
         "y": [
          0.14163090128755365,
          0.13304721030042918,
          0.13304721030042918,
          0.12875536480686695,
          0.11587982832618025,
          0.1072961373390558,
          0.0944206008583691,
          0.09012875536480687,
          0.0815450643776824,
          0.07296137339055794,
          0.07725321888412018,
          0.07296137339055794,
          0.06866952789699571,
          0.060085836909871244,
          0.060085836909871244,
          0.06437768240343347,
          0.060085836909871244,
          0.06437768240343347,
          0.06866952789699571,
          0.07296137339055794,
          0.0815450643776824,
          0.06866952789699571,
          0.06866952789699571,
          0.06866952789699571,
          0.06437768240343347,
          0.05150214592274678,
          0.04291845493562232,
          0.02145922746781116,
          0.02145922746781116,
          0.012875536480686695,
          0.017167381974248927,
          0.012875536480686695,
          0.012875536480686695,
          0.008583690987124463,
          0.004291845493562232,
          0.10300429184549356,
          0.0944206008583691,
          0.0815450643776824,
          0.06437768240343347,
          0.05150214592274678,
          0.03862660944206009,
          0.02575107296137339,
          0.02575107296137339,
          0.02575107296137339,
          0.02575107296137339,
          0.004291845493562232,
          0
         ],
         "yaxis": "y"
        }
       ],
       "layout": {
        "legend": {
         "tracegroupgap": 0
        },
        "margin": {
         "t": 60
        },
        "template": {
         "data": {
          "bar": [
           {
            "error_x": {
             "color": "#2a3f5f"
            },
            "error_y": {
             "color": "#2a3f5f"
            },
            "marker": {
             "line": {
              "color": "#E5ECF6",
              "width": 0.5
             }
            },
            "type": "bar"
           }
          ],
          "barpolar": [
           {
            "marker": {
             "line": {
              "color": "#E5ECF6",
              "width": 0.5
             }
            },
            "type": "barpolar"
           }
          ],
          "carpet": [
           {
            "aaxis": {
             "endlinecolor": "#2a3f5f",
             "gridcolor": "white",
             "linecolor": "white",
             "minorgridcolor": "white",
             "startlinecolor": "#2a3f5f"
            },
            "baxis": {
             "endlinecolor": "#2a3f5f",
             "gridcolor": "white",
             "linecolor": "white",
             "minorgridcolor": "white",
             "startlinecolor": "#2a3f5f"
            },
            "type": "carpet"
           }
          ],
          "choropleth": [
           {
            "colorbar": {
             "outlinewidth": 0,
             "ticks": ""
            },
            "type": "choropleth"
           }
          ],
          "contour": [
           {
            "colorbar": {
             "outlinewidth": 0,
             "ticks": ""
            },
            "colorscale": [
             [
              0,
              "#0d0887"
             ],
             [
              0.1111111111111111,
              "#46039f"
             ],
             [
              0.2222222222222222,
              "#7201a8"
             ],
             [
              0.3333333333333333,
              "#9c179e"
             ],
             [
              0.4444444444444444,
              "#bd3786"
             ],
             [
              0.5555555555555556,
              "#d8576b"
             ],
             [
              0.6666666666666666,
              "#ed7953"
             ],
             [
              0.7777777777777778,
              "#fb9f3a"
             ],
             [
              0.8888888888888888,
              "#fdca26"
             ],
             [
              1,
              "#f0f921"
             ]
            ],
            "type": "contour"
           }
          ],
          "contourcarpet": [
           {
            "colorbar": {
             "outlinewidth": 0,
             "ticks": ""
            },
            "type": "contourcarpet"
           }
          ],
          "heatmap": [
           {
            "colorbar": {
             "outlinewidth": 0,
             "ticks": ""
            },
            "colorscale": [
             [
              0,
              "#0d0887"
             ],
             [
              0.1111111111111111,
              "#46039f"
             ],
             [
              0.2222222222222222,
              "#7201a8"
             ],
             [
              0.3333333333333333,
              "#9c179e"
             ],
             [
              0.4444444444444444,
              "#bd3786"
             ],
             [
              0.5555555555555556,
              "#d8576b"
             ],
             [
              0.6666666666666666,
              "#ed7953"
             ],
             [
              0.7777777777777778,
              "#fb9f3a"
             ],
             [
              0.8888888888888888,
              "#fdca26"
             ],
             [
              1,
              "#f0f921"
             ]
            ],
            "type": "heatmap"
           }
          ],
          "heatmapgl": [
           {
            "colorbar": {
             "outlinewidth": 0,
             "ticks": ""
            },
            "colorscale": [
             [
              0,
              "#0d0887"
             ],
             [
              0.1111111111111111,
              "#46039f"
             ],
             [
              0.2222222222222222,
              "#7201a8"
             ],
             [
              0.3333333333333333,
              "#9c179e"
             ],
             [
              0.4444444444444444,
              "#bd3786"
             ],
             [
              0.5555555555555556,
              "#d8576b"
             ],
             [
              0.6666666666666666,
              "#ed7953"
             ],
             [
              0.7777777777777778,
              "#fb9f3a"
             ],
             [
              0.8888888888888888,
              "#fdca26"
             ],
             [
              1,
              "#f0f921"
             ]
            ],
            "type": "heatmapgl"
           }
          ],
          "histogram": [
           {
            "marker": {
             "colorbar": {
              "outlinewidth": 0,
              "ticks": ""
             }
            },
            "type": "histogram"
           }
          ],
          "histogram2d": [
           {
            "colorbar": {
             "outlinewidth": 0,
             "ticks": ""
            },
            "colorscale": [
             [
              0,
              "#0d0887"
             ],
             [
              0.1111111111111111,
              "#46039f"
             ],
             [
              0.2222222222222222,
              "#7201a8"
             ],
             [
              0.3333333333333333,
              "#9c179e"
             ],
             [
              0.4444444444444444,
              "#bd3786"
             ],
             [
              0.5555555555555556,
              "#d8576b"
             ],
             [
              0.6666666666666666,
              "#ed7953"
             ],
             [
              0.7777777777777778,
              "#fb9f3a"
             ],
             [
              0.8888888888888888,
              "#fdca26"
             ],
             [
              1,
              "#f0f921"
             ]
            ],
            "type": "histogram2d"
           }
          ],
          "histogram2dcontour": [
           {
            "colorbar": {
             "outlinewidth": 0,
             "ticks": ""
            },
            "colorscale": [
             [
              0,
              "#0d0887"
             ],
             [
              0.1111111111111111,
              "#46039f"
             ],
             [
              0.2222222222222222,
              "#7201a8"
             ],
             [
              0.3333333333333333,
              "#9c179e"
             ],
             [
              0.4444444444444444,
              "#bd3786"
             ],
             [
              0.5555555555555556,
              "#d8576b"
             ],
             [
              0.6666666666666666,
              "#ed7953"
             ],
             [
              0.7777777777777778,
              "#fb9f3a"
             ],
             [
              0.8888888888888888,
              "#fdca26"
             ],
             [
              1,
              "#f0f921"
             ]
            ],
            "type": "histogram2dcontour"
           }
          ],
          "mesh3d": [
           {
            "colorbar": {
             "outlinewidth": 0,
             "ticks": ""
            },
            "type": "mesh3d"
           }
          ],
          "parcoords": [
           {
            "line": {
             "colorbar": {
              "outlinewidth": 0,
              "ticks": ""
             }
            },
            "type": "parcoords"
           }
          ],
          "pie": [
           {
            "automargin": true,
            "type": "pie"
           }
          ],
          "scatter": [
           {
            "marker": {
             "colorbar": {
              "outlinewidth": 0,
              "ticks": ""
             }
            },
            "type": "scatter"
           }
          ],
          "scatter3d": [
           {
            "line": {
             "colorbar": {
              "outlinewidth": 0,
              "ticks": ""
             }
            },
            "marker": {
             "colorbar": {
              "outlinewidth": 0,
              "ticks": ""
             }
            },
            "type": "scatter3d"
           }
          ],
          "scattercarpet": [
           {
            "marker": {
             "colorbar": {
              "outlinewidth": 0,
              "ticks": ""
             }
            },
            "type": "scattercarpet"
           }
          ],
          "scattergeo": [
           {
            "marker": {
             "colorbar": {
              "outlinewidth": 0,
              "ticks": ""
             }
            },
            "type": "scattergeo"
           }
          ],
          "scattergl": [
           {
            "marker": {
             "colorbar": {
              "outlinewidth": 0,
              "ticks": ""
             }
            },
            "type": "scattergl"
           }
          ],
          "scattermapbox": [
           {
            "marker": {
             "colorbar": {
              "outlinewidth": 0,
              "ticks": ""
             }
            },
            "type": "scattermapbox"
           }
          ],
          "scatterpolar": [
           {
            "marker": {
             "colorbar": {
              "outlinewidth": 0,
              "ticks": ""
             }
            },
            "type": "scatterpolar"
           }
          ],
          "scatterpolargl": [
           {
            "marker": {
             "colorbar": {
              "outlinewidth": 0,
              "ticks": ""
             }
            },
            "type": "scatterpolargl"
           }
          ],
          "scatterternary": [
           {
            "marker": {
             "colorbar": {
              "outlinewidth": 0,
              "ticks": ""
             }
            },
            "type": "scatterternary"
           }
          ],
          "surface": [
           {
            "colorbar": {
             "outlinewidth": 0,
             "ticks": ""
            },
            "colorscale": [
             [
              0,
              "#0d0887"
             ],
             [
              0.1111111111111111,
              "#46039f"
             ],
             [
              0.2222222222222222,
              "#7201a8"
             ],
             [
              0.3333333333333333,
              "#9c179e"
             ],
             [
              0.4444444444444444,
              "#bd3786"
             ],
             [
              0.5555555555555556,
              "#d8576b"
             ],
             [
              0.6666666666666666,
              "#ed7953"
             ],
             [
              0.7777777777777778,
              "#fb9f3a"
             ],
             [
              0.8888888888888888,
              "#fdca26"
             ],
             [
              1,
              "#f0f921"
             ]
            ],
            "type": "surface"
           }
          ],
          "table": [
           {
            "cells": {
             "fill": {
              "color": "#EBF0F8"
             },
             "line": {
              "color": "white"
             }
            },
            "header": {
             "fill": {
              "color": "#C8D4E3"
             },
             "line": {
              "color": "white"
             }
            },
            "type": "table"
           }
          ]
         },
         "layout": {
          "annotationdefaults": {
           "arrowcolor": "#2a3f5f",
           "arrowhead": 0,
           "arrowwidth": 1
          },
          "coloraxis": {
           "colorbar": {
            "outlinewidth": 0,
            "ticks": ""
           }
          },
          "colorscale": {
           "diverging": [
            [
             0,
             "#8e0152"
            ],
            [
             0.1,
             "#c51b7d"
            ],
            [
             0.2,
             "#de77ae"
            ],
            [
             0.3,
             "#f1b6da"
            ],
            [
             0.4,
             "#fde0ef"
            ],
            [
             0.5,
             "#f7f7f7"
            ],
            [
             0.6,
             "#e6f5d0"
            ],
            [
             0.7,
             "#b8e186"
            ],
            [
             0.8,
             "#7fbc41"
            ],
            [
             0.9,
             "#4d9221"
            ],
            [
             1,
             "#276419"
            ]
           ],
           "sequential": [
            [
             0,
             "#0d0887"
            ],
            [
             0.1111111111111111,
             "#46039f"
            ],
            [
             0.2222222222222222,
             "#7201a8"
            ],
            [
             0.3333333333333333,
             "#9c179e"
            ],
            [
             0.4444444444444444,
             "#bd3786"
            ],
            [
             0.5555555555555556,
             "#d8576b"
            ],
            [
             0.6666666666666666,
             "#ed7953"
            ],
            [
             0.7777777777777778,
             "#fb9f3a"
            ],
            [
             0.8888888888888888,
             "#fdca26"
            ],
            [
             1,
             "#f0f921"
            ]
           ],
           "sequentialminus": [
            [
             0,
             "#0d0887"
            ],
            [
             0.1111111111111111,
             "#46039f"
            ],
            [
             0.2222222222222222,
             "#7201a8"
            ],
            [
             0.3333333333333333,
             "#9c179e"
            ],
            [
             0.4444444444444444,
             "#bd3786"
            ],
            [
             0.5555555555555556,
             "#d8576b"
            ],
            [
             0.6666666666666666,
             "#ed7953"
            ],
            [
             0.7777777777777778,
             "#fb9f3a"
            ],
            [
             0.8888888888888888,
             "#fdca26"
            ],
            [
             1,
             "#f0f921"
            ]
           ]
          },
          "colorway": [
           "#636efa",
           "#EF553B",
           "#00cc96",
           "#ab63fa",
           "#FFA15A",
           "#19d3f3",
           "#FF6692",
           "#B6E880",
           "#FF97FF",
           "#FECB52"
          ],
          "font": {
           "color": "#2a3f5f"
          },
          "geo": {
           "bgcolor": "white",
           "lakecolor": "white",
           "landcolor": "#E5ECF6",
           "showlakes": true,
           "showland": true,
           "subunitcolor": "white"
          },
          "hoverlabel": {
           "align": "left"
          },
          "hovermode": "closest",
          "mapbox": {
           "style": "light"
          },
          "paper_bgcolor": "white",
          "plot_bgcolor": "#E5ECF6",
          "polar": {
           "angularaxis": {
            "gridcolor": "white",
            "linecolor": "white",
            "ticks": ""
           },
           "bgcolor": "#E5ECF6",
           "radialaxis": {
            "gridcolor": "white",
            "linecolor": "white",
            "ticks": ""
           }
          },
          "scene": {
           "xaxis": {
            "backgroundcolor": "#E5ECF6",
            "gridcolor": "white",
            "gridwidth": 2,
            "linecolor": "white",
            "showbackground": true,
            "ticks": "",
            "zerolinecolor": "white"
           },
           "yaxis": {
            "backgroundcolor": "#E5ECF6",
            "gridcolor": "white",
            "gridwidth": 2,
            "linecolor": "white",
            "showbackground": true,
            "ticks": "",
            "zerolinecolor": "white"
           },
           "zaxis": {
            "backgroundcolor": "#E5ECF6",
            "gridcolor": "white",
            "gridwidth": 2,
            "linecolor": "white",
            "showbackground": true,
            "ticks": "",
            "zerolinecolor": "white"
           }
          },
          "shapedefaults": {
           "line": {
            "color": "#2a3f5f"
           }
          },
          "ternary": {
           "aaxis": {
            "gridcolor": "white",
            "linecolor": "white",
            "ticks": ""
           },
           "baxis": {
            "gridcolor": "white",
            "linecolor": "white",
            "ticks": ""
           },
           "bgcolor": "#E5ECF6",
           "caxis": {
            "gridcolor": "white",
            "linecolor": "white",
            "ticks": ""
           }
          },
          "title": {
           "x": 0.05
          },
          "xaxis": {
           "automargin": true,
           "gridcolor": "white",
           "linecolor": "white",
           "ticks": "",
           "title": {
            "standoff": 15
           },
           "zerolinecolor": "white",
           "zerolinewidth": 2
          },
          "yaxis": {
           "automargin": true,
           "gridcolor": "white",
           "linecolor": "white",
           "ticks": "",
           "title": {
            "standoff": 15
           },
           "zerolinecolor": "white",
           "zerolinewidth": 2
          }
         }
        },
        "xaxis": {
         "anchor": "y",
         "domain": [
          0,
          1
         ],
         "title": {
          "text": "TIME"
         }
        },
        "yaxis": {
         "anchor": "x",
         "domain": [
          0,
          1
         ],
         "title": {
          "text": "PERCENT"
         }
        }
       }
      },
      "text/html": [
       "<div>\n",
       "        \n",
       "        \n",
       "            <div id=\"31327f81-ef5f-486f-9c01-0fbfcc019b37\" class=\"plotly-graph-div\" style=\"height:525px; width:100%;\"></div>\n",
       "            <script type=\"text/javascript\">\n",
       "                require([\"plotly\"], function(Plotly) {\n",
       "                    window.PLOTLYENV=window.PLOTLYENV || {};\n",
       "                    \n",
       "                if (document.getElementById(\"31327f81-ef5f-486f-9c01-0fbfcc019b37\")) {\n",
       "                    Plotly.newPlot(\n",
       "                        '31327f81-ef5f-486f-9c01-0fbfcc019b37',\n",
       "                        [{\"hoverlabel\": {\"namelength\": 0}, \"hovertemplate\": \"TIME=%{x}<br>PERCENT=%{y}\", \"legendgroup\": \"\", \"line\": {\"color\": \"#636efa\", \"dash\": \"solid\"}, \"mode\": \"lines\", \"name\": \"\", \"showlegend\": false, \"type\": \"scatter\", \"x\": [1970, 1971, 1972, 1973, 1974, 1975, 1976, 1977, 1978, 1979, 1980, 1981, 1982, 1983, 1984, 1985, 1986, 1987, 1988, 1989, 1990, 1991, 1992, 1993, 1994, 1995, 1996, 1997, 1998, 1999, 2000, 2001, 2002, 2003, 2004, 2005, 2006, 2007, 2008, 2009, 2010, 2011, 2012, 2013, 2014, 2015, 2016], \"xaxis\": \"x\", \"y\": [0.14163090128755365, 0.13304721030042918, 0.13304721030042918, 0.12875536480686695, 0.11587982832618025, 0.1072961373390558, 0.0944206008583691, 0.09012875536480687, 0.0815450643776824, 0.07296137339055794, 0.07725321888412018, 0.07296137339055794, 0.06866952789699571, 0.060085836909871244, 0.060085836909871244, 0.06437768240343347, 0.060085836909871244, 0.06437768240343347, 0.06866952789699571, 0.07296137339055794, 0.0815450643776824, 0.06866952789699571, 0.06866952789699571, 0.06866952789699571, 0.06437768240343347, 0.05150214592274678, 0.04291845493562232, 0.02145922746781116, 0.02145922746781116, 0.012875536480686695, 0.017167381974248927, 0.012875536480686695, 0.012875536480686695, 0.008583690987124463, 0.004291845493562232, 0.10300429184549356, 0.0944206008583691, 0.0815450643776824, 0.06437768240343347, 0.05150214592274678, 0.03862660944206009, 0.02575107296137339, 0.02575107296137339, 0.02575107296137339, 0.02575107296137339, 0.004291845493562232, 0.0], \"yaxis\": \"y\"}],\n",
       "                        {\"legend\": {\"tracegroupgap\": 0}, \"margin\": {\"t\": 60}, \"template\": {\"data\": {\"bar\": [{\"error_x\": {\"color\": \"#2a3f5f\"}, \"error_y\": {\"color\": \"#2a3f5f\"}, \"marker\": {\"line\": {\"color\": \"#E5ECF6\", \"width\": 0.5}}, \"type\": \"bar\"}], \"barpolar\": [{\"marker\": {\"line\": {\"color\": \"#E5ECF6\", \"width\": 0.5}}, \"type\": \"barpolar\"}], \"carpet\": [{\"aaxis\": {\"endlinecolor\": \"#2a3f5f\", \"gridcolor\": \"white\", \"linecolor\": \"white\", \"minorgridcolor\": \"white\", \"startlinecolor\": \"#2a3f5f\"}, \"baxis\": {\"endlinecolor\": \"#2a3f5f\", \"gridcolor\": \"white\", \"linecolor\": \"white\", \"minorgridcolor\": \"white\", \"startlinecolor\": \"#2a3f5f\"}, \"type\": \"carpet\"}], \"choropleth\": [{\"colorbar\": {\"outlinewidth\": 0, \"ticks\": \"\"}, \"type\": \"choropleth\"}], \"contour\": [{\"colorbar\": {\"outlinewidth\": 0, \"ticks\": \"\"}, \"colorscale\": [[0.0, \"#0d0887\"], [0.1111111111111111, \"#46039f\"], [0.2222222222222222, \"#7201a8\"], [0.3333333333333333, \"#9c179e\"], [0.4444444444444444, \"#bd3786\"], [0.5555555555555556, \"#d8576b\"], [0.6666666666666666, \"#ed7953\"], [0.7777777777777778, \"#fb9f3a\"], [0.8888888888888888, \"#fdca26\"], [1.0, \"#f0f921\"]], \"type\": \"contour\"}], \"contourcarpet\": [{\"colorbar\": {\"outlinewidth\": 0, \"ticks\": \"\"}, \"type\": \"contourcarpet\"}], \"heatmap\": [{\"colorbar\": {\"outlinewidth\": 0, \"ticks\": \"\"}, \"colorscale\": [[0.0, \"#0d0887\"], [0.1111111111111111, \"#46039f\"], [0.2222222222222222, \"#7201a8\"], [0.3333333333333333, \"#9c179e\"], [0.4444444444444444, \"#bd3786\"], [0.5555555555555556, \"#d8576b\"], [0.6666666666666666, \"#ed7953\"], [0.7777777777777778, \"#fb9f3a\"], [0.8888888888888888, \"#fdca26\"], [1.0, \"#f0f921\"]], \"type\": \"heatmap\"}], \"heatmapgl\": [{\"colorbar\": {\"outlinewidth\": 0, \"ticks\": \"\"}, \"colorscale\": [[0.0, \"#0d0887\"], [0.1111111111111111, \"#46039f\"], [0.2222222222222222, \"#7201a8\"], [0.3333333333333333, \"#9c179e\"], [0.4444444444444444, \"#bd3786\"], [0.5555555555555556, \"#d8576b\"], [0.6666666666666666, \"#ed7953\"], [0.7777777777777778, \"#fb9f3a\"], [0.8888888888888888, \"#fdca26\"], [1.0, \"#f0f921\"]], \"type\": \"heatmapgl\"}], \"histogram\": [{\"marker\": {\"colorbar\": {\"outlinewidth\": 0, \"ticks\": \"\"}}, \"type\": \"histogram\"}], \"histogram2d\": [{\"colorbar\": {\"outlinewidth\": 0, \"ticks\": \"\"}, \"colorscale\": [[0.0, \"#0d0887\"], [0.1111111111111111, \"#46039f\"], [0.2222222222222222, \"#7201a8\"], [0.3333333333333333, \"#9c179e\"], [0.4444444444444444, \"#bd3786\"], [0.5555555555555556, \"#d8576b\"], [0.6666666666666666, \"#ed7953\"], [0.7777777777777778, \"#fb9f3a\"], [0.8888888888888888, \"#fdca26\"], [1.0, \"#f0f921\"]], \"type\": \"histogram2d\"}], \"histogram2dcontour\": [{\"colorbar\": {\"outlinewidth\": 0, \"ticks\": \"\"}, \"colorscale\": [[0.0, \"#0d0887\"], [0.1111111111111111, \"#46039f\"], [0.2222222222222222, \"#7201a8\"], [0.3333333333333333, \"#9c179e\"], [0.4444444444444444, \"#bd3786\"], [0.5555555555555556, \"#d8576b\"], [0.6666666666666666, \"#ed7953\"], [0.7777777777777778, \"#fb9f3a\"], [0.8888888888888888, \"#fdca26\"], [1.0, \"#f0f921\"]], \"type\": \"histogram2dcontour\"}], \"mesh3d\": [{\"colorbar\": {\"outlinewidth\": 0, \"ticks\": \"\"}, \"type\": \"mesh3d\"}], \"parcoords\": [{\"line\": {\"colorbar\": {\"outlinewidth\": 0, \"ticks\": \"\"}}, \"type\": \"parcoords\"}], \"pie\": [{\"automargin\": true, \"type\": \"pie\"}], \"scatter\": [{\"marker\": {\"colorbar\": {\"outlinewidth\": 0, \"ticks\": \"\"}}, \"type\": \"scatter\"}], \"scatter3d\": [{\"line\": {\"colorbar\": {\"outlinewidth\": 0, \"ticks\": \"\"}}, \"marker\": {\"colorbar\": {\"outlinewidth\": 0, \"ticks\": \"\"}}, \"type\": \"scatter3d\"}], \"scattercarpet\": [{\"marker\": {\"colorbar\": {\"outlinewidth\": 0, \"ticks\": \"\"}}, \"type\": \"scattercarpet\"}], \"scattergeo\": [{\"marker\": {\"colorbar\": {\"outlinewidth\": 0, \"ticks\": \"\"}}, \"type\": \"scattergeo\"}], \"scattergl\": [{\"marker\": {\"colorbar\": {\"outlinewidth\": 0, \"ticks\": \"\"}}, \"type\": \"scattergl\"}], \"scattermapbox\": [{\"marker\": {\"colorbar\": {\"outlinewidth\": 0, \"ticks\": \"\"}}, \"type\": \"scattermapbox\"}], \"scatterpolar\": [{\"marker\": {\"colorbar\": {\"outlinewidth\": 0, \"ticks\": \"\"}}, \"type\": \"scatterpolar\"}], \"scatterpolargl\": [{\"marker\": {\"colorbar\": {\"outlinewidth\": 0, \"ticks\": \"\"}}, \"type\": \"scatterpolargl\"}], \"scatterternary\": [{\"marker\": {\"colorbar\": {\"outlinewidth\": 0, \"ticks\": \"\"}}, \"type\": \"scatterternary\"}], \"surface\": [{\"colorbar\": {\"outlinewidth\": 0, \"ticks\": \"\"}, \"colorscale\": [[0.0, \"#0d0887\"], [0.1111111111111111, \"#46039f\"], [0.2222222222222222, \"#7201a8\"], [0.3333333333333333, \"#9c179e\"], [0.4444444444444444, \"#bd3786\"], [0.5555555555555556, \"#d8576b\"], [0.6666666666666666, \"#ed7953\"], [0.7777777777777778, \"#fb9f3a\"], [0.8888888888888888, \"#fdca26\"], [1.0, \"#f0f921\"]], \"type\": \"surface\"}], \"table\": [{\"cells\": {\"fill\": {\"color\": \"#EBF0F8\"}, \"line\": {\"color\": \"white\"}}, \"header\": {\"fill\": {\"color\": \"#C8D4E3\"}, \"line\": {\"color\": \"white\"}}, \"type\": \"table\"}]}, \"layout\": {\"annotationdefaults\": {\"arrowcolor\": \"#2a3f5f\", \"arrowhead\": 0, \"arrowwidth\": 1}, \"coloraxis\": {\"colorbar\": {\"outlinewidth\": 0, \"ticks\": \"\"}}, \"colorscale\": {\"diverging\": [[0, \"#8e0152\"], [0.1, \"#c51b7d\"], [0.2, \"#de77ae\"], [0.3, \"#f1b6da\"], [0.4, \"#fde0ef\"], [0.5, \"#f7f7f7\"], [0.6, \"#e6f5d0\"], [0.7, \"#b8e186\"], [0.8, \"#7fbc41\"], [0.9, \"#4d9221\"], [1, \"#276419\"]], \"sequential\": [[0.0, \"#0d0887\"], [0.1111111111111111, \"#46039f\"], [0.2222222222222222, \"#7201a8\"], [0.3333333333333333, \"#9c179e\"], [0.4444444444444444, \"#bd3786\"], [0.5555555555555556, \"#d8576b\"], [0.6666666666666666, \"#ed7953\"], [0.7777777777777778, \"#fb9f3a\"], [0.8888888888888888, \"#fdca26\"], [1.0, \"#f0f921\"]], \"sequentialminus\": [[0.0, \"#0d0887\"], [0.1111111111111111, \"#46039f\"], [0.2222222222222222, \"#7201a8\"], [0.3333333333333333, \"#9c179e\"], [0.4444444444444444, \"#bd3786\"], [0.5555555555555556, \"#d8576b\"], [0.6666666666666666, \"#ed7953\"], [0.7777777777777778, \"#fb9f3a\"], [0.8888888888888888, \"#fdca26\"], [1.0, \"#f0f921\"]]}, \"colorway\": [\"#636efa\", \"#EF553B\", \"#00cc96\", \"#ab63fa\", \"#FFA15A\", \"#19d3f3\", \"#FF6692\", \"#B6E880\", \"#FF97FF\", \"#FECB52\"], \"font\": {\"color\": \"#2a3f5f\"}, \"geo\": {\"bgcolor\": \"white\", \"lakecolor\": \"white\", \"landcolor\": \"#E5ECF6\", \"showlakes\": true, \"showland\": true, \"subunitcolor\": \"white\"}, \"hoverlabel\": {\"align\": \"left\"}, \"hovermode\": \"closest\", \"mapbox\": {\"style\": \"light\"}, \"paper_bgcolor\": \"white\", \"plot_bgcolor\": \"#E5ECF6\", \"polar\": {\"angularaxis\": {\"gridcolor\": \"white\", \"linecolor\": \"white\", \"ticks\": \"\"}, \"bgcolor\": \"#E5ECF6\", \"radialaxis\": {\"gridcolor\": \"white\", \"linecolor\": \"white\", \"ticks\": \"\"}}, \"scene\": {\"xaxis\": {\"backgroundcolor\": \"#E5ECF6\", \"gridcolor\": \"white\", \"gridwidth\": 2, \"linecolor\": \"white\", \"showbackground\": true, \"ticks\": \"\", \"zerolinecolor\": \"white\"}, \"yaxis\": {\"backgroundcolor\": \"#E5ECF6\", \"gridcolor\": \"white\", \"gridwidth\": 2, \"linecolor\": \"white\", \"showbackground\": true, \"ticks\": \"\", \"zerolinecolor\": \"white\"}, \"zaxis\": {\"backgroundcolor\": \"#E5ECF6\", \"gridcolor\": \"white\", \"gridwidth\": 2, \"linecolor\": \"white\", \"showbackground\": true, \"ticks\": \"\", \"zerolinecolor\": \"white\"}}, \"shapedefaults\": {\"line\": {\"color\": \"#2a3f5f\"}}, \"ternary\": {\"aaxis\": {\"gridcolor\": \"white\", \"linecolor\": \"white\", \"ticks\": \"\"}, \"baxis\": {\"gridcolor\": \"white\", \"linecolor\": \"white\", \"ticks\": \"\"}, \"bgcolor\": \"#E5ECF6\", \"caxis\": {\"gridcolor\": \"white\", \"linecolor\": \"white\", \"ticks\": \"\"}}, \"title\": {\"x\": 0.05}, \"xaxis\": {\"automargin\": true, \"gridcolor\": \"white\", \"linecolor\": \"white\", \"ticks\": \"\", \"title\": {\"standoff\": 15}, \"zerolinecolor\": \"white\", \"zerolinewidth\": 2}, \"yaxis\": {\"automargin\": true, \"gridcolor\": \"white\", \"linecolor\": \"white\", \"ticks\": \"\", \"title\": {\"standoff\": 15}, \"zerolinecolor\": \"white\", \"zerolinewidth\": 2}}}, \"xaxis\": {\"anchor\": \"y\", \"domain\": [0.0, 1.0], \"title\": {\"text\": \"TIME\"}}, \"yaxis\": {\"anchor\": \"x\", \"domain\": [0.0, 1.0], \"title\": {\"text\": \"PERCENT\"}}},\n",
       "                        {\"responsive\": true}\n",
       "                    ).then(function(){\n",
       "                            \n",
       "var gd = document.getElementById('31327f81-ef5f-486f-9c01-0fbfcc019b37');\n",
       "var x = new MutationObserver(function (mutations, observer) {{\n",
       "        var display = window.getComputedStyle(gd).display;\n",
       "        if (!display || display === 'none') {{\n",
       "            console.log([gd, 'removed!']);\n",
       "            Plotly.purge(gd);\n",
       "            observer.disconnect();\n",
       "        }}\n",
       "}});\n",
       "\n",
       "// Listen for the removal of the full notebook cells\n",
       "var notebookContainer = gd.closest('#notebook-container');\n",
       "if (notebookContainer) {{\n",
       "    x.observe(notebookContainer, {childList: true});\n",
       "}}\n",
       "\n",
       "// Listen for the clearing of the current output cell\n",
       "var outputEl = gd.closest('.output');\n",
       "if (outputEl) {{\n",
       "    x.observe(outputEl, {childList: true});\n",
       "}}\n",
       "\n",
       "                        })\n",
       "                };\n",
       "                });\n",
       "            </script>\n",
       "        </div>"
      ]
     },
     "metadata": {},
     "output_type": "display_data"
    }
   ],
   "source": [
    "def question1(base):\n",
    "    poverty_percent = {'TIME': [], 'PERCENT': []}\n",
    "    for i in range(1970, 2017):\n",
    "        poverty_percent['TIME'].append(i)\n",
    "        poverty_percent['PERCENT'].append(base[(base['TIME']==i) & (base['poverty'])].shape[0] / base[base['TIME']==i].shape[0])\n",
    "\n",
    "    pp = pd.DataFrame(poverty_percent)\n",
    "\n",
    "    fig = px.line(\n",
    "        pp, \n",
    "        x='TIME', \n",
    "        y='PERCENT', \n",
    "    )\n",
    "    return fig\n",
    "\n",
    "question1(dataset_full2)"
   ]
  },
  {
   "cell_type": "markdown",
   "metadata": {},
   "source": [
    "## 2.2 Which characteristics are predictive for countries with large populations living in extreme poverty?"
   ]
  },
  {
   "cell_type": "markdown",
   "metadata": {},
   "source": [
    "### Training the model"
   ]
  },
  {
   "cell_type": "code",
   "execution_count": 19,
   "metadata": {},
   "outputs": [
    {
     "name": "stdout",
     "output_type": "stream",
     "text": [
      "Ridge Calssifier accuracy : 0.94262 +- 0.00032\n"
     ]
    }
   ],
   "source": [
    "# GROUND TRUTH AS NUMERIC\n",
    "y = dataset_full['poverty']\n",
    "y = y.apply(lambda x: 1 if x==True else 0)\n",
    "X_2 = dataset_full2.drop(labels=['LOCATION', 'poverty'], axis=1)\n",
    "\n",
    "# FUNCTIONS FOR ML \n",
    "def print_performance (classifier, X, y, scores= ['accuracy', 'precision', 'recall'], model=''):\n",
    "    for score in scores:\n",
    "        cv2 = cross_val_score(classifier, X, y, cv=10, scoring=score)\n",
    "        cv2_m = cv2.mean()\n",
    "        cv2_sd = cv2.std()\n",
    "        print(model + ' ' + score +\" : \" + str(round(cv2_m, 5))+ ' +- '+ str(round(cv2_sd, 5)))\n",
    "\n",
    "def r_classifier (X, y, alpha=1.0, fit_intercept=True, normalize=True, solver='auto', max_iter=1000, tol=0.0001) :\n",
    "    reg = linear_model.RidgeClassifier(alpha=alpha, fit_intercept=fit_intercept, normalize=normalize, max_iter=max_iter, tol=0.001, solver='auto', random_state=30)\n",
    "    print_performance(reg, X , y, model='Ridge Calssifier', scores= ['accuracy'])\n",
    "    reg.fit(X,y)\n",
    "    return reg   \n",
    "\n",
    "ridge_2 =  r_classifier(X_2,y, alpha=0.1)"
   ]
  },
  {
   "cell_type": "markdown",
   "metadata": {},
   "source": [
    "### Finding the most predictive features"
   ]
  },
  {
   "cell_type": "code",
   "execution_count": 20,
   "metadata": {},
   "outputs": [
    {
     "data": {
      "text/html": [
       "<div>\n",
       "<style scoped>\n",
       "    .dataframe tbody tr th:only-of-type {\n",
       "        vertical-align: middle;\n",
       "    }\n",
       "\n",
       "    .dataframe tbody tr th {\n",
       "        vertical-align: top;\n",
       "    }\n",
       "\n",
       "    .dataframe thead th {\n",
       "        text-align: right;\n",
       "    }\n",
       "</style>\n",
       "<table border=\"1\" class=\"dataframe\">\n",
       "  <thead>\n",
       "    <tr style=\"text-align: right;\">\n",
       "      <th></th>\n",
       "      <th>col</th>\n",
       "      <th>absolute</th>\n",
       "      <th>relative</th>\n",
       "    </tr>\n",
       "  </thead>\n",
       "  <tbody>\n",
       "    <tr>\n",
       "      <td>0</td>\n",
       "      <td>TIME</td>\n",
       "      <td>-0.001943</td>\n",
       "      <td>0.075534</td>\n",
       "    </tr>\n",
       "    <tr>\n",
       "      <td>1</td>\n",
       "      <td>SP_DYN_TFRT_IN</td>\n",
       "      <td>0.012889</td>\n",
       "      <td>0.501145</td>\n",
       "    </tr>\n",
       "    <tr>\n",
       "      <td>2</td>\n",
       "      <td>SP_DYN_LE00_IN</td>\n",
       "      <td>-0.003791</td>\n",
       "      <td>0.147391</td>\n",
       "    </tr>\n",
       "    <tr>\n",
       "      <td>3</td>\n",
       "      <td>SP_DYN_IMRT_IN</td>\n",
       "      <td>0.000964</td>\n",
       "      <td>0.037497</td>\n",
       "    </tr>\n",
       "    <tr>\n",
       "      <td>4</td>\n",
       "      <td>SP_POP_GROW</td>\n",
       "      <td>-0.005550</td>\n",
       "      <td>0.215784</td>\n",
       "    </tr>\n",
       "    <tr>\n",
       "      <td>5</td>\n",
       "      <td>SP_RUR_TOTL_ZS</td>\n",
       "      <td>-0.000580</td>\n",
       "      <td>0.022568</td>\n",
       "    </tr>\n",
       "    <tr>\n",
       "      <td>6</td>\n",
       "      <td>200101</td>\n",
       "      <td>0.000000</td>\n",
       "      <td>0.000000</td>\n",
       "    </tr>\n",
       "    <tr>\n",
       "      <td>7</td>\n",
       "      <td>200151</td>\n",
       "      <td>0.000001</td>\n",
       "      <td>0.000032</td>\n",
       "    </tr>\n",
       "    <tr>\n",
       "      <td>8</td>\n",
       "      <td>200345</td>\n",
       "      <td>-0.000000</td>\n",
       "      <td>0.000010</td>\n",
       "    </tr>\n",
       "    <tr>\n",
       "      <td>9</td>\n",
       "      <td>200343</td>\n",
       "      <td>0.000001</td>\n",
       "      <td>0.000028</td>\n",
       "    </tr>\n",
       "    <tr>\n",
       "      <td>10</td>\n",
       "      <td>200144</td>\n",
       "      <td>-0.000000</td>\n",
       "      <td>0.000012</td>\n",
       "    </tr>\n",
       "  </tbody>\n",
       "</table>\n",
       "</div>"
      ],
      "text/plain": [
       "               col  absolute  relative\n",
       "0             TIME -0.001943  0.075534\n",
       "1   SP_DYN_TFRT_IN  0.012889  0.501145\n",
       "2   SP_DYN_LE00_IN -0.003791  0.147391\n",
       "3   SP_DYN_IMRT_IN  0.000964  0.037497\n",
       "4      SP_POP_GROW -0.005550  0.215784\n",
       "5   SP_RUR_TOTL_ZS -0.000580  0.022568\n",
       "6           200101  0.000000  0.000000\n",
       "7           200151  0.000001  0.000032\n",
       "8           200345 -0.000000  0.000010\n",
       "9           200343  0.000001  0.000028\n",
       "10          200144 -0.000000  0.000012"
      ]
     },
     "execution_count": 20,
     "metadata": {},
     "output_type": "execute_result"
    }
   ],
   "source": [
    "R2_coef = np.array(ridge_2.coef_)\n",
    "X2_cols = X_2.columns\n",
    "R2_relativ = np.abs(R2_coef)/np.abs(R2_coef).sum()\n",
    "table = {'col':X2_cols, 'absolute':[], 'relative':[]}\n",
    "\n",
    "# Fill into Dataframe\n",
    "for i in range(0,len(X2_cols)):\n",
    "    table['absolute'].append(round(R2_coef[0,i],6))\n",
    "    table['relative'].append(round(R2_relativ[0,i],6))\n",
    "    \n",
    "q2_weights = pd.DataFrame.from_dict(table)\n",
    "q2_weights"
   ]
  },
  {
   "cell_type": "markdown",
   "metadata": {},
   "source": [
    "## 2.3 - Which characteristics are predictive for populations emerging from extreme poverty?"
   ]
  },
  {
   "cell_type": "markdown",
   "metadata": {},
   "source": [
    "### Identifying emerging countries"
   ]
  },
  {
   "cell_type": "code",
   "execution_count": 22,
   "metadata": {},
   "outputs": [],
   "source": [
    "def just_demographic(df_poor):\n",
    "    feature_descriptions = pd.read_csv(\"../feature_descriptions.csv\")\n",
    "\n",
    "    #FEATURES WITH LESS THAN 50% MISSING VALUES\n",
    "    features = feature_descriptions.where(feature_descriptions['na_percent']<=50.0).dropna(0)\n",
    "    \n",
    "    #ONLY DEMOGRAFIC FEATURES!\n",
    "    cols = features['Unnamed: 0'].tolist()\n",
    "    cols = cols[0:7]+ cols[13:18] + [cols[25]]\n",
    "    df_poor = df_poor[cols]\n",
    "    return (df_poor)\n",
    "\n",
    "def interpolation_df_poor(df_poor):\n",
    "    columns = df_poor.columns\n",
    "    countries = df_poor['LOCATION'].unique()\n",
    "    for c in countries:\n",
    "        df_c = df_poor[df_poor['LOCATION']==c]\n",
    "        df_c = df_c.interpolate(method ='linear', \n",
    "                                    limit_direction ='forward',\n",
    "                                    axis = 0)\n",
    "        df_c = df_c.interpolate(method ='linear', \n",
    "                                    limit_direction ='backward',\n",
    "                                    axis = 0)\n",
    "        df_c.fillna(poor.drop(labels='LOCATION', axis=1).mean(), inplace =True)\n",
    "        df_poor[df_poor['LOCATION']==c] = df_c\n",
    "    return(df_poor)\n",
    "\n",
    "# READ FROM DATA_PREP\n",
    "df_p = pd.read_csv(\"../transformed.csv\")\n",
    "poor = df_p\n",
    "poor = just_demographic(poor)\n",
    "poor = interpolation_df_poor(poor)\n",
    "\n",
    "# Identifying emerging countries from poverty\n",
    "# Poor countries\n",
    "p_poor = poor[poor['poverty'] == 1]\n",
    "c_poor = p_poor.LOCATION.unique() # poor countries\n",
    "\n",
    "# No Poor countries\n",
    "no_poor = poor[(poor['poverty'] == 0) & (poor['TIME'] == 2015)]\n",
    "# no_poor = no_poor[poor['TIME'] == 2015]\n",
    "c_no_poor = no_poor.LOCATION.unique() # no poor countries 2015\n",
    "e_countries = set(c_no_poor).intersection(c_poor) # Identifying emerging countries\n",
    "# e_countries = Emerging\n",
    "poor['emerging'] = poor['LOCATION'].isin(e_countries)\n",
    "e_poor = poor[poor['LOCATION'].isin(e_countries)]"
   ]
  },
  {
   "cell_type": "markdown",
   "metadata": {},
   "source": [
    "### Identifying emerging countries"
   ]
  },
  {
   "cell_type": "code",
   "execution_count": 59,
   "metadata": {},
   "outputs": [],
   "source": [
    "#import streamlit as st\n",
    "import matplotlib.pyplot as plt\n",
    "import scipy\n",
    "import seaborn as sns\n",
    "import sklearn as sk\n",
    "from sklearn import tree\n",
    "from sklearn.tree import _tree\n",
    "from sklearn.tree import DecisionTreeClassifier as DTC\n",
    "\n",
    "def just_demographic(df_poor):\n",
    "    feature_descriptions = pd.read_csv(\"feature_descriptions.csv\")\n",
    "\n",
    "    #FEATURES WITH LESS THAN 50% MISSING VALUES\n",
    "    features = feature_descriptions.where(feature_descriptions['na_percent']<=50.0).dropna(0)\n",
    "    \n",
    "    #ONLY DEMOGRAFIC FEATURES!\n",
    "    cols = features['Unnamed: 0'].tolist()\n",
    "    cols = cols[0:7]+ cols[13:18] + [cols[25]]\n",
    "    df_poor = df_poor[cols]\n",
    "    return (df_poor)\n",
    "\n",
    "def alles_good_papi():\n",
    "    return(\"Alles good papi\")\n",
    "\n",
    "def interpolation_df_poor(df_poor):\n",
    "    columns = df_poor.columns\n",
    "    countries = df_poor['LOCATION'].unique()\n",
    "    for c in countries:\n",
    "        df_c = df_poor[df_poor['LOCATION']==c]\n",
    "        df_c = df_c.interpolate(method ='linear', \n",
    "                                    limit_direction ='forward',\n",
    "                                    axis = 0)\n",
    "        df_c = df_c.interpolate(method ='linear', \n",
    "                                    limit_direction ='backward',\n",
    "                                    axis = 0)\n",
    "        df_c.fillna(poor.drop(labels='LOCATION', axis=1).mean(), inplace =True)\n",
    "        df_poor[df_poor['LOCATION']==c] = df_c\n",
    "    return(df_poor)\n",
    "\n",
    "def thresholds(df_poor):\n",
    "    poor = df_poor\n",
    "    thresholds = {}\n",
    "    columns = poor.columns[2:-2]\n",
    "    #st.write(columns)\n",
    "    X = poor.iloc[:,2:-2]\n",
    "    #st.write(len(X))\n",
    "    #st.write(columns)\n",
    "    y = poor.iloc[:,-2:-1]\n",
    "    #st.write(len(y))\n",
    "    #st.write(y)\n",
    "    for c in columns:\n",
    "        #st.write(c)\n",
    "        #st.write(X[c])\n",
    "        X_ = np.array(X[c]).reshape(-1, 1)#X.iloc[:,c]\n",
    "        clf_tree = DTC(criterion=\"gini\",\n",
    "                        max_depth=1, \n",
    "                        splitter=\"best\")\n",
    "        clf_tree.fit(X_,y)\n",
    "        #thresholds[c] = clf_tree.tree_.threshold[0]\n",
    "        threshold = clf_tree.tree_.threshold[0]\n",
    "        #st.write(X_.mean())\n",
    "        #st.write(threshold)\n",
    "        #break        \n",
    "        thresholds[c] = threshold    \n",
    "    return(thresholds)\n",
    "\n",
    "\n",
    "def e_poor_selectKBest(df_e_poor, score_f = f_classif, k='all'):\n",
    "    e_poor = df_e_poor\n",
    "    # Split dataset to train\n",
    "    X = e_poor.iloc[:,2:-2] # All the columns less the last one\n",
    "    y = e_poor.iloc[:,-2:-1] # Just the last column\n",
    "    dfcolumns = pd.DataFrame(X.columns)\n",
    "\n",
    "    scaler = MinMaxScaler()\n",
    "    scaler.fit(X)\n",
    "    X = scaler.transform(X)\n",
    "    # Create the feature selector\n",
    "    #perhaps a switch\n",
    "    bestFeatures = SelectKBest(score_func=score_f, k=k)\n",
    "    fit = bestFeatures.fit(X,y)\n",
    "    dfscores = pd.DataFrame(fit.scores_)\n",
    "\n",
    "    # Create a data frame to see the impact of the features\n",
    "    featureScores = pd.concat([dfcolumns,dfscores],axis=1)\n",
    "    featureScores.columns = ['Features','Scores']\n",
    "    featureScores.sort_values(by='Scores', ascending=False, inplace=True)\n",
    "    scores = featureScores.Scores\n",
    "    rel_scores = np.array(scores)/np.abs(np.array(scores)).sum()\n",
    "    rel_scores.reshape(-1, 1)\n",
    "    #st.write(rel_scores.shape)\n",
    "\n",
    "    rel_scores = pd.DataFrame(rel_scores, dtype=float, columns=['Relative'])\n",
    "\n",
    "    df_scores = pd.concat([featureScores,rel_scores], axis=1)\n",
    "    #st.write(df_scores)\n",
    "    #st.write(scores)\n",
    "    #st.write(rel_scores)\n",
    "    return(df_scores)\n",
    "\n",
    "def e_poor_feature_importance(df_e_poor):\n",
    "    e_poor = df_e_poor\n",
    "    # Split dataset to train\n",
    "    X = e_poor.iloc[:,2:-2] # All the columns less the last one\n",
    "    y = e_poor.iloc[:,-2:-1] # Just the last column\n",
    "    model = ExtraTreesClassifier()\n",
    "    model.fit(X,y)\n",
    "    print(model.feature_importances_)\n",
    "    feat_importances = pd.Series(model.feature_importances_, index=X.columns)\n",
    "    #st.write(feat_importances)\n",
    "\n",
    "    #columns = pd.DataFrame(feat_importances.index)\n",
    "    #st.write(columns)\n",
    "    scores = pd.DataFrame(feat_importances, dtype=float)\n",
    "    featureScores = scores.reset_index()\n",
    "    featureScores.columns = ['Features','Scores']\n",
    "    df_scores0 = featureScores.sort_values(by='Scores', ascending=False)\n",
    "    df_scores0.reset_index(drop=True, inplace=True)\n",
    "    #st.write(featureScores)\n",
    "    scores = df_scores0.Scores\n",
    "    rel_scores = np.array(scores)/np.abs(np.array(scores)).sum()\n",
    "    rel_scores.reshape(-1, 1)\n",
    "    #st.write(rel_scores.shape)\n",
    "    rel_scores = pd.DataFrame(rel_scores, dtype=float, columns=['Relative'])\n",
    "    df_scores = pd.concat([df_scores0,rel_scores], axis=1)\n",
    "    #st.write(df_scores)\n",
    "    print(df_scores)\n",
    "    # Plot it in a barchart\n",
    "    feat_importances.nlargest(20).plot(kind='barh', figsize = (13, 6), fontsize=12)\n",
    "    #st.pyplot()\n",
    "    plt.show()\n",
    "    return(\"All fertig pa pitura\")\n",
    "\n",
    "\n",
    "def plot_correlation_matrix(df_e_poor, n=20):\n",
    "    data = e_poor.iloc[:,2:-2] # All features\n",
    "    # Split dataset to train\n",
    "    columns = data.columns\n",
    "    plt.clf()\n",
    "    correlation = data.corr()\n",
    "    #columns = correlation.nlargest(n, 'poverty').index\n",
    "    #st.write('OK')\n",
    "    #st.write(columns)\n",
    "    #st.write(data[columns].values)\n",
    "\n",
    "    correlation_map = np.corrcoef(data[columns].values.T)\n",
    "    sns.set(font_scale=1, rc={'figure.figsize':(30,30)})\n",
    "    heatmap = sns.heatmap(correlation_map, cbar=True, annot=False, \n",
    "                            square=True, fmt='.2f', yticklabels=columns.values, \n",
    "                            xticklabels=columns.values)\n",
    "    heatmap.set_xticklabels(heatmap.get_xticklabels(), rotation = 90, fontsize = 16)\n",
    "    heatmap.set_yticklabels(heatmap.get_yticklabels(), rotation = 0, fontsize = 16)\n",
    "    plt.show()\n",
    "    #st.pyplot()\n",
    "    return(\"All fertig pa pitura\")"
   ]
  },
  {
   "cell_type": "markdown",
   "metadata": {},
   "source": [
    "### Read data for question 3"
   ]
  },
  {
   "cell_type": "code",
   "execution_count": 60,
   "metadata": {},
   "outputs": [
    {
     "name": "stdout",
     "output_type": "stream",
     "text": [
      "  LOCATION  TIME  SP_DYN_TFRT_IN  SP_DYN_LE00_IN  SP_DYN_IMRT_IN  SP_POP_GROW  \\\n",
      "0      AUS  1970           2.859        71.01854            17.8      1.97019   \n",
      "1      AUS  1971           2.961        71.06829            17.4      3.38029   \n",
      "2      AUS  1972           2.744        71.45756            16.8      1.83815   \n",
      "3      AUS  1973           2.491        71.84683            16.1      1.52882   \n",
      "4      AUS  1974           2.397        72.23610            15.3      2.53122   \n",
      "5      AUS  1975           2.148        72.62537            14.4      1.23119   \n",
      "\n",
      "   SP_RUR_TOTL_ZS     200101    200151    200345    200343    200144  poverty  \n",
      "0          16.001  12793.034  1054.644  5767.311  3729.907  2241.172    False  \n",
      "1          15.840  13033.133  1087.712  5893.591  3763.468  2288.362    False  \n",
      "2          15.680  13244.171  1118.063  6017.034  3787.515  2321.559    False  \n",
      "3          15.522  13431.794  1147.129  6138.482  3801.483  2344.700    False  \n",
      "4          15.364  13605.570  1177.255  6259.190  3803.345  2365.780    False  \n",
      "5          15.208  13773.288  1210.080  6380.527  3792.269  2390.412    False  \n",
      "(11642, 13)\n"
     ]
    }
   ],
   "source": [
    "df_p = pd.read_csv(\"transformed.csv\")\n",
    "poor = df_p\n",
    "poor = just_demographic(poor)\n",
    "poor = interpolation_df_poor(poor)\n",
    "print (poor.head(6))\n",
    "print (poor.shape)"
   ]
  },
  {
   "cell_type": "markdown",
   "metadata": {},
   "source": [
    "### Identifying emerging countries from poverty"
   ]
  },
  {
   "cell_type": "code",
   "execution_count": 61,
   "metadata": {},
   "outputs": [
    {
     "name": "stdout",
     "output_type": "stream",
     "text": [
      "    LOCATION  TIME  SP_DYN_TFRT_IN  SP_DYN_LE00_IN  SP_DYN_IMRT_IN  \\\n",
      "315      GRC  1970            2.40        70.90363            27.6   \n",
      "316      GRC  1971            2.32        71.22656            25.9   \n",
      "317      GRC  1972            2.32        71.53500            24.9   \n",
      "318      GRC  1973            2.27        71.81485            24.4   \n",
      "319      GRC  1974            2.38        72.06463            24.0   \n",
      "320      GRC  1975            2.33        72.29371            23.3   \n",
      "\n",
      "     SP_POP_GROW  SP_RUR_TOTL_ZS    200101    200151    200345    200343  \\\n",
      "315      0.22820          35.780  8663.571   881.841  4211.048  2258.641   \n",
      "316      0.43384          35.049  8716.873   911.695  4209.690  2266.369   \n",
      "317      0.65004          34.546  8774.514   943.322  4225.466  2260.807   \n",
      "318      0.45413          34.048  8840.315   976.119  4254.487  2248.445   \n",
      "319      0.36818          33.552  8919.244  1008.991  4289.365  2240.923   \n",
      "320      0.93866          33.060  9014.085  1041.551  4326.286  2244.371   \n",
      "\n",
      "       200144  poverty  emerging  \n",
      "315  1312.041     True      True  \n",
      "316  1329.119     True      True  \n",
      "317  1344.919     True      True  \n",
      "318  1361.264     True      True  \n",
      "319  1379.965     True      True  \n",
      "320  1401.877     True      True  \n",
      "From a total of 233 countries, 68 have emerged from extreme poverty\n"
     ]
    }
   ],
   "source": [
    "p_poor = poor[poor['poverty'] == 1]\n",
    "c_poor = p_poor.LOCATION.unique() # poor countries\n",
    "\n",
    "# No Poor countries\n",
    "no_poor = poor[(poor['poverty'] == 0) & (poor['TIME'] == 2015)]\n",
    "#no_poor = no_poor[poor['TIME'] == 2015]\n",
    "c_no_poor = no_poor.LOCATION.unique() # no poor countries 2015\n",
    "e_countries = set(c_no_poor).intersection(c_poor) # Identifying emerging countries\n",
    "#e_countries # Emerging\n",
    "poor['emerging'] = poor['LOCATION'].isin(e_countries)\n",
    "e_poor = poor[poor['LOCATION'].isin(e_countries)]\n",
    "#st.write(poor)\n",
    "thresholds(df_poor=poor)\n",
    "print(e_poor.head(6))\n",
    "print('From a total of',len(poor.LOCATION.unique()),'countries,', len(e_countries), 'have emerged from extreme poverty')"
   ]
  },
  {
   "cell_type": "code",
   "execution_count": 62,
   "metadata": {},
   "outputs": [
    {
     "name": "stdout",
     "output_type": "stream",
     "text": [
      "From a total of 233 countries, 68 have emerged from extreme poverty\n"
     ]
    }
   ],
   "source": [
    "print('From a total of',len(poor.LOCATION.unique()),'countries,', len(e_countries), 'have emerged from extreme poverty')"
   ]
  },
  {
   "cell_type": "markdown",
   "metadata": {},
   "source": [
    "### The emerging countries by year"
   ]
  },
  {
   "cell_type": "code",
   "execution_count": 63,
   "metadata": {},
   "outputs": [],
   "source": [
    "def years_emerged(e_poor):\n",
    "    years = {}\n",
    "    years_total = {}\n",
    "    e_countries = list()\n",
    "    df_e_poor = e_poor\n",
    "    for y in df_e_poor.TIME.unique():\n",
    "        df_y = df_e_poor[df_e_poor['TIME'] == y]\n",
    "        countries = list()\n",
    "        #countries_total = list()\n",
    "        for c in df_y.LOCATION.unique():\n",
    "            df_c = df_y[df_y['LOCATION'] == c]\n",
    "            if ((df_c.iloc[0,-2] == 0) & (c not in e_countries)):\n",
    "                #st.write(df_c.iloc[0,-2])\n",
    "                e_countries.append(c)\n",
    "                countries.append(c)\n",
    "            #break\n",
    "        #st.write(y,countries)\n",
    "        y = int(y)\n",
    "        years[y] = countries\n",
    "        years_total[y] = len(countries)\n",
    "    # PLOT\n",
    "    #sns.distplot(years, kde=False)\n",
    "    plt.bar(years_total.keys(), years_total.values(), color='g')\n",
    "    plt.show()\n",
    "    #st.pyplot()\n",
    "    return(years)"
   ]
  },
  {
   "cell_type": "code",
   "execution_count": 65,
   "metadata": {
    "scrolled": false
   },
   "outputs": [
    {
     "data": {
      "image/png": "[encoded data removed]",
      "text/plain": [
       "<Figure size 2160x2160 with 1 Axes>"
      ]
     },
     "metadata": {},
     "output_type": "display_data"
    },
    {
     "data": {
      "text/plain": [
       "{1970: ['AFG',\n",
       "  'AGO',\n",
       "  'ARG',\n",
       "  'ARM',\n",
       "  'AZE',\n",
       "  'BOL',\n",
       "  'BRA',\n",
       "  'BGR',\n",
       "  'BFA',\n",
       "  'BDI',\n",
       "  'COD',\n",
       "  'ERI',\n",
       "  'ETH',\n",
       "  'GEO',\n",
       "  'GIN',\n",
       "  'HTI',\n",
       "  'KGZ',\n",
       "  'LBR',\n",
       "  'MKD',\n",
       "  'MDG',\n",
       "  'MOZ',\n",
       "  'MMR',\n",
       "  'NPL',\n",
       "  'NIC',\n",
       "  'NER',\n",
       "  'PER',\n",
       "  'RUS',\n",
       "  'RWA',\n",
       "  'SLB',\n",
       "  'TGO',\n",
       "  'UZB',\n",
       "  'ROU',\n",
       "  'TKM',\n",
       "  'TJK',\n",
       "  'BLR'],\n",
       " 1971: ['FJI', 'ZWE'],\n",
       " 1972: ['DOM'],\n",
       " 1973: ['GTM'],\n",
       " 1974: ['CHL', 'SLV', 'OMN'],\n",
       " 1975: ['GMB', 'SWZ'],\n",
       " 1976: ['GRC', 'BWA', 'NGA', 'PNG'],\n",
       " 1977: ['PRT'],\n",
       " 1978: ['CHN', 'TUN'],\n",
       " 1979: ['JOR'],\n",
       " 1980: ['LSO'],\n",
       " 1981: ['SLE'],\n",
       " 1982: ['EGY'],\n",
       " 1983: ['ISR', 'UGA'],\n",
       " 1984: ['MEX'],\n",
       " 1985: ['GNB'],\n",
       " 1986: [],\n",
       " 1987: ['URY'],\n",
       " 1988: ['MWI'],\n",
       " 1989: [],\n",
       " 1990: [],\n",
       " 1991: [],\n",
       " 1992: [],\n",
       " 1993: [],\n",
       " 1994: ['VEN'],\n",
       " 1995: ['UKR', 'SUR'],\n",
       " 1996: ['ZMB'],\n",
       " 1997: ['SDN', 'TUR'],\n",
       " 1998: [],\n",
       " 1999: [],\n",
       " 2000: [],\n",
       " 2001: [],\n",
       " 2002: [],\n",
       " 2003: [],\n",
       " 2004: ['GHA'],\n",
       " 2005: [],\n",
       " 2006: [],\n",
       " 2007: [],\n",
       " 2008: [],\n",
       " 2009: [],\n",
       " 2010: [],\n",
       " 2011: [],\n",
       " 2012: [],\n",
       " 2013: [],\n",
       " 2014: [],\n",
       " 2015: [],\n",
       " 2016: [],\n",
       " 2017: [],\n",
       " 2018: [],\n",
       " 2019: []}"
      ]
     },
     "execution_count": 65,
     "metadata": {},
     "output_type": "execute_result"
    }
   ],
   "source": [
    "years_emerged(e_poor)"
   ]
  },
  {
   "cell_type": "markdown",
   "metadata": {},
   "source": [
    "### Best K features to characterize the emerging population"
   ]
  },
  {
   "cell_type": "code",
   "execution_count": 64,
   "metadata": {
    "scrolled": false
   },
   "outputs": [
    {
     "name": "stdout",
     "output_type": "stream",
     "text": [
      "Execution of the K Best features\n",
      "f_classif\n",
      "         Features     Scores  Relative\n",
      "0  SP_DYN_TFRT_IN  82.582937  0.298053\n",
      "1  SP_DYN_LE00_IN  59.385197  0.288574\n",
      "2  SP_DYN_IMRT_IN  79.956479  0.214329\n",
      "3     SP_POP_GROW  26.239385  0.094702\n",
      "4  SP_RUR_TOTL_ZS  11.908895  0.042981\n",
      "5          200101   2.785567  0.024493\n",
      "6          200151   6.786261  0.018796\n",
      "7          200345   5.208026  0.010053\n",
      "8          200343   0.050929  0.007834\n",
      "9          200144   2.170714  0.000184\n",
      "chi2\n",
      "         Features     Scores  Relative\n",
      "0  SP_DYN_TFRT_IN  12.438803  0.345544\n",
      "1  SP_DYN_LE00_IN   3.586731  0.344627\n",
      "2  SP_DYN_IMRT_IN  12.405808  0.099638\n",
      "3     SP_POP_GROW   0.238912  0.056003\n",
      "4  SP_RUR_TOTL_ZS   1.369938  0.054909\n",
      "5          200101   1.107916  0.038056\n",
      "6          200151   1.976598  0.030777\n",
      "7          200345   2.015979  0.023309\n",
      "8          200343   0.018032  0.006637\n",
      "9          200144   0.839058  0.000501\n",
      "mutual_info_classif\n",
      "         Features    Scores  Relative\n",
      "0  SP_DYN_TFRT_IN  0.016036  0.143896\n",
      "1  SP_DYN_LE00_IN  0.051858  0.140351\n",
      "2  SP_DYN_IMRT_IN  0.039308  0.118447\n",
      "3     SP_POP_GROW  0.034379  0.111808\n",
      "4  SP_RUR_TOTL_ZS  0.040210  0.108826\n",
      "5          200101  0.037412  0.106385\n",
      "6          200151  0.012041  0.101252\n",
      "7          200345  0.053168  0.093045\n",
      "8          200343  0.041312  0.043401\n",
      "9          200144  0.043765  0.032589\n",
      "feature_importance\n",
      "[0.10069084 0.11201779 0.10471447 0.08020018 0.12784825 0.09270085\n",
      " 0.10642334 0.09833838 0.09296633 0.08409956]\n",
      "         Features    Scores  Relative\n",
      "0  SP_RUR_TOTL_ZS  0.127848  0.127848\n",
      "1  SP_DYN_LE00_IN  0.112018  0.112018\n",
      "2          200151  0.106423  0.106423\n",
      "3  SP_DYN_IMRT_IN  0.104714  0.104714\n",
      "4  SP_DYN_TFRT_IN  0.100691  0.100691\n",
      "5          200345  0.098338  0.098338\n",
      "6          200343  0.092966  0.092966\n",
      "7          200101  0.092701  0.092701\n",
      "8          200144  0.084100  0.084100\n",
      "9     SP_POP_GROW  0.080200  0.080200\n"
     ]
    },
    {
     "data": {
      "image/png": "[encoded data removed]",
      "text/plain": [
       "<Figure size 936x432 with 1 Axes>"
      ]
     },
     "metadata": {},
     "output_type": "display_data"
    },
    {
     "name": "stdout",
     "output_type": "stream",
     "text": [
      "Correlation Matrix\n"
     ]
    },
    {
     "data": {
      "image/png": "[encoded data removed]",
      "text/plain": [
       "<Figure size 2160x2160 with 2 Axes>"
      ]
     },
     "metadata": {},
     "output_type": "display_data"
    },
    {
     "data": {
      "text/plain": [
       "'All fertig pa pitura'"
      ]
     },
     "execution_count": 64,
     "metadata": {},
     "output_type": "execute_result"
    }
   ],
   "source": [
    "'''\n",
    "st.write(\"Best \")\n",
    "st.write(\"f_classif\")\n",
    "st.write(e_poor_selectKBest(e_poor,score_f=f_classif))\n",
    "st.write(\"chi2\")\n",
    "st.write(e_poor_selectKBest(e_poor,score_f=chi2))\n",
    "st.write(\"mutual_info_classif\")\n",
    "st.write(e_poor_selectKBest(e_poor,score_f=mutual_info_classif))\n",
    "st.write(\"feature_importance\")\n",
    "e_poor_feature_importance(e_poor)\n",
    "st.write(\"Correlation Matrix\")\n",
    "plot_correlation_matrix(e_poor)\n",
    "'''\n",
    "\n",
    "print(\"Execution of the K Best features\")\n",
    "print(\"f_classif\")\n",
    "print(e_poor_selectKBest(e_poor,score_f=f_classif))\n",
    "#e_poor_selectKBest(e_poor,score_f=f_classif)\n",
    "\n",
    "print(\"chi2\")\n",
    "print(e_poor_selectKBest(e_poor,score_f=chi2))\n",
    "#e_poor_selectKBest(e_poor,score_f=chi2)\n",
    "print(\"mutual_info_classif\")\n",
    "print(e_poor_selectKBest(e_poor,score_f=mutual_info_classif))\n",
    "#e_poor_selectKBest(e_poor,score_f=mutual_info_classif)\n",
    "print(\"feature_importance\")\n",
    "e_poor_feature_importance(e_poor)\n",
    "print(\"Correlation Matrix\")\n",
    "plot_correlation_matrix(e_poor)\n"
   ]
  },
  {
   "cell_type": "markdown",
   "metadata": {},
   "source": [
    "def e_poor_selectKBest(df_e_poor, score_f = f_classif, k='all'):\n",
    "    e_poor = df_e_poor\n",
    "    # Split dataset to train\n",
    "    X = e_poor.iloc[:,2:-2] # All the columns less the last one\n",
    "    y = e_poor.iloc[:,-2:-1] # Just the last column\n",
    "    dfcolumns = pd.DataFrame(X.columns)\n",
    "\n",
    "    scaler = MinMaxScaler()\n",
    "    scaler.fit(X)\n",
    "    X = scaler.transform(X)\n",
    "    # Create the feature selector\n",
    "    # perhaps a switch\n",
    "    bestFeatures = SelectKBest(score_func=score_f, k=k)\n",
    "    fit = bestFeatures.fit(X,y)\n",
    "    dfscores = pd.DataFrame(fit.scores_)\n",
    "\n",
    "    # Create a data frame to see the impact of the features\n",
    "    featureScores = pd.concat([dfcolumns,dfscores],axis=1)\n",
    "    featureScores.columns = ['Features','Scores']\n",
    "    featureScores.sort_values(by='Scores', ascending=False, inplace=True)\n",
    "    \n",
    "    return(featureScores)\n",
    "\n",
    "# SHOW FEATURE IMPORTANCES\n",
    "selectKBest_df = pd.merge(e_poor_selectKBest(e_poor), e_poor_selectKBest(e_poor,score_f=chi2), on='Features')\n",
    "selectKBest_df.columns = ['Features', 'f-classif', 'chi2']\n",
    "selectKBest_df"
   ]
  },
  {
   "cell_type": "markdown",
   "metadata": {},
   "source": [
    "### Feature Importance with ExtraTreesClassifier"
   ]
  },
  {
   "cell_type": "markdown",
   "metadata": {},
   "source": [
    "def e_poor_feature_importance(df_e_poor):\n",
    "    e_poor = df_e_poor\n",
    "    # Split dataset to train\n",
    "    X = e_poor.iloc[:,2:-2] # All the columns less the last one\n",
    "    y = e_poor.iloc[:,-2:-1] # Just the last column\n",
    "    model = ExtraTreesClassifier()\n",
    "    model.fit(X,y)\n",
    "    feat_importances = pd.Series(model.feature_importances_, index=X.columns)\n",
    "    feat_importances.nlargest(20).plot(kind='barh', figsize = (13, 6), fontsize=12)\n",
    "\n",
    "e_poor_feature_importance(e_poor)"
   ]
  },
  {
   "cell_type": "markdown",
   "metadata": {},
   "source": [
    "## Unifying Question 2 and Question 3"
   ]
  },
  {
   "cell_type": "code",
   "execution_count": 67,
   "metadata": {},
   "outputs": [
    {
     "data": {
      "application/vnd.plotly.v1+json": {
       "config": {
        "plotlyServerURL": "https://plot.ly"
       },
       "data": [
        {
         "name": "In Poverty",
         "type": "bar",
         "x": [
          "%Pop in Rural Areas",
          "Population Growth",
          "Fertility",
          "Life Expectancy",
          "Mortality Rate"
         ],
         "y": [
          0.022568,
          0.215784,
          0.501145,
          0.147391,
          0.037497,
          1e-05,
          2.8e-05,
          3.2e-05,
          1.2e-05,
          0
         ]
        },
        {
         "name": "Emerged",
         "type": "bar",
         "x": [
          "%Pop in Rural Areas",
          "Population Growth",
          "Fertility",
          "Life Expectancy",
          "Mortality Rate"
         ],
         "y": [
          0.04298085848313405,
          0.09470158828932039,
          0.2980533027316138,
          0.2143294341299222,
          0.2885740518755898,
          0.018796491317482317,
          0.00018380856363333118,
          0.02449255875396018,
          0.007834407868325476,
          0.010053497987018455
         ]
        }
       ],
       "layout": {
        "barmode": "group",
        "template": {
         "data": {
          "bar": [
           {
            "error_x": {
             "color": "#2a3f5f"
            },
            "error_y": {
             "color": "#2a3f5f"
            },
            "marker": {
             "line": {
              "color": "#E5ECF6",
              "width": 0.5
             }
            },
            "type": "bar"
           }
          ],
          "barpolar": [
           {
            "marker": {
             "line": {
              "color": "#E5ECF6",
              "width": 0.5
             }
            },
            "type": "barpolar"
           }
          ],
          "carpet": [
           {
            "aaxis": {
             "endlinecolor": "#2a3f5f",
             "gridcolor": "white",
             "linecolor": "white",
             "minorgridcolor": "white",
             "startlinecolor": "#2a3f5f"
            },
            "baxis": {
             "endlinecolor": "#2a3f5f",
             "gridcolor": "white",
             "linecolor": "white",
             "minorgridcolor": "white",
             "startlinecolor": "#2a3f5f"
            },
            "type": "carpet"
           }
          ],
          "choropleth": [
           {
            "colorbar": {
             "outlinewidth": 0,
             "ticks": ""
            },
            "type": "choropleth"
           }
          ],
          "contour": [
           {
            "colorbar": {
             "outlinewidth": 0,
             "ticks": ""
            },
            "colorscale": [
             [
              0,
              "#0d0887"
             ],
             [
              0.1111111111111111,
              "#46039f"
             ],
             [
              0.2222222222222222,
              "#7201a8"
             ],
             [
              0.3333333333333333,
              "#9c179e"
             ],
             [
              0.4444444444444444,
              "#bd3786"
             ],
             [
              0.5555555555555556,
              "#d8576b"
             ],
             [
              0.6666666666666666,
              "#ed7953"
             ],
             [
              0.7777777777777778,
              "#fb9f3a"
             ],
             [
              0.8888888888888888,
              "#fdca26"
             ],
             [
              1,
              "#f0f921"
             ]
            ],
            "type": "contour"
           }
          ],
          "contourcarpet": [
           {
            "colorbar": {
             "outlinewidth": 0,
             "ticks": ""
            },
            "type": "contourcarpet"
           }
          ],
          "heatmap": [
           {
            "colorbar": {
             "outlinewidth": 0,
             "ticks": ""
            },
            "colorscale": [
             [
              0,
              "#0d0887"
             ],
             [
              0.1111111111111111,
              "#46039f"
             ],
             [
              0.2222222222222222,
              "#7201a8"
             ],
             [
              0.3333333333333333,
              "#9c179e"
             ],
             [
              0.4444444444444444,
              "#bd3786"
             ],
             [
              0.5555555555555556,
              "#d8576b"
             ],
             [
              0.6666666666666666,
              "#ed7953"
             ],
             [
              0.7777777777777778,
              "#fb9f3a"
             ],
             [
              0.8888888888888888,
              "#fdca26"
             ],
             [
              1,
              "#f0f921"
             ]
            ],
            "type": "heatmap"
           }
          ],
          "heatmapgl": [
           {
            "colorbar": {
             "outlinewidth": 0,
             "ticks": ""
            },
            "colorscale": [
             [
              0,
              "#0d0887"
             ],
             [
              0.1111111111111111,
              "#46039f"
             ],
             [
              0.2222222222222222,
              "#7201a8"
             ],
             [
              0.3333333333333333,
              "#9c179e"
             ],
             [
              0.4444444444444444,
              "#bd3786"
             ],
             [
              0.5555555555555556,
              "#d8576b"
             ],
             [
              0.6666666666666666,
              "#ed7953"
             ],
             [
              0.7777777777777778,
              "#fb9f3a"
             ],
             [
              0.8888888888888888,
              "#fdca26"
             ],
             [
              1,
              "#f0f921"
             ]
            ],
            "type": "heatmapgl"
           }
          ],
          "histogram": [
           {
            "marker": {
             "colorbar": {
              "outlinewidth": 0,
              "ticks": ""
             }
            },
            "type": "histogram"
           }
          ],
          "histogram2d": [
           {
            "colorbar": {
             "outlinewidth": 0,
             "ticks": ""
            },
            "colorscale": [
             [
              0,
              "#0d0887"
             ],
             [
              0.1111111111111111,
              "#46039f"
             ],
             [
              0.2222222222222222,
              "#7201a8"
             ],
             [
              0.3333333333333333,
              "#9c179e"
             ],
             [
              0.4444444444444444,
              "#bd3786"
             ],
             [
              0.5555555555555556,
              "#d8576b"
             ],
             [
              0.6666666666666666,
              "#ed7953"
             ],
             [
              0.7777777777777778,
              "#fb9f3a"
             ],
             [
              0.8888888888888888,
              "#fdca26"
             ],
             [
              1,
              "#f0f921"
             ]
            ],
            "type": "histogram2d"
           }
          ],
          "histogram2dcontour": [
           {
            "colorbar": {
             "outlinewidth": 0,
             "ticks": ""
            },
            "colorscale": [
             [
              0,
              "#0d0887"
             ],
             [
              0.1111111111111111,
              "#46039f"
             ],
             [
              0.2222222222222222,
              "#7201a8"
             ],
             [
              0.3333333333333333,
              "#9c179e"
             ],
             [
              0.4444444444444444,
              "#bd3786"
             ],
             [
              0.5555555555555556,
              "#d8576b"
             ],
             [
              0.6666666666666666,
              "#ed7953"
             ],
             [
              0.7777777777777778,
              "#fb9f3a"
             ],
             [
              0.8888888888888888,
              "#fdca26"
             ],
             [
              1,
              "#f0f921"
             ]
            ],
            "type": "histogram2dcontour"
           }
          ],
          "mesh3d": [
           {
            "colorbar": {
             "outlinewidth": 0,
             "ticks": ""
            },
            "type": "mesh3d"
           }
          ],
          "parcoords": [
           {
            "line": {
             "colorbar": {
              "outlinewidth": 0,
              "ticks": ""
             }
            },
            "type": "parcoords"
           }
          ],
          "pie": [
           {
            "automargin": true,
            "type": "pie"
           }
          ],
          "scatter": [
           {
            "marker": {
             "colorbar": {
              "outlinewidth": 0,
              "ticks": ""
             }
            },
            "type": "scatter"
           }
          ],
          "scatter3d": [
           {
            "line": {
             "colorbar": {
              "outlinewidth": 0,
              "ticks": ""
             }
            },
            "marker": {
             "colorbar": {
              "outlinewidth": 0,
              "ticks": ""
             }
            },
            "type": "scatter3d"
           }
          ],
          "scattercarpet": [
           {
            "marker": {
             "colorbar": {
              "outlinewidth": 0,
              "ticks": ""
             }
            },
            "type": "scattercarpet"
           }
          ],
          "scattergeo": [
           {
            "marker": {
             "colorbar": {
              "outlinewidth": 0,
              "ticks": ""
             }
            },
            "type": "scattergeo"
           }
          ],
          "scattergl": [
           {
            "marker": {
             "colorbar": {
              "outlinewidth": 0,
              "ticks": ""
             }
            },
            "type": "scattergl"
           }
          ],
          "scattermapbox": [
           {
            "marker": {
             "colorbar": {
              "outlinewidth": 0,
              "ticks": ""
             }
            },
            "type": "scattermapbox"
           }
          ],
          "scatterpolar": [
           {
            "marker": {
             "colorbar": {
              "outlinewidth": 0,
              "ticks": ""
             }
            },
            "type": "scatterpolar"
           }
          ],
          "scatterpolargl": [
           {
            "marker": {
             "colorbar": {
              "outlinewidth": 0,
              "ticks": ""
             }
            },
            "type": "scatterpolargl"
           }
          ],
          "scatterternary": [
           {
            "marker": {
             "colorbar": {
              "outlinewidth": 0,
              "ticks": ""
             }
            },
            "type": "scatterternary"
           }
          ],
          "surface": [
           {
            "colorbar": {
             "outlinewidth": 0,
             "ticks": ""
            },
            "colorscale": [
             [
              0,
              "#0d0887"
             ],
             [
              0.1111111111111111,
              "#46039f"
             ],
             [
              0.2222222222222222,
              "#7201a8"
             ],
             [
              0.3333333333333333,
              "#9c179e"
             ],
             [
              0.4444444444444444,
              "#bd3786"
             ],
             [
              0.5555555555555556,
              "#d8576b"
             ],
             [
              0.6666666666666666,
              "#ed7953"
             ],
             [
              0.7777777777777778,
              "#fb9f3a"
             ],
             [
              0.8888888888888888,
              "#fdca26"
             ],
             [
              1,
              "#f0f921"
             ]
            ],
            "type": "surface"
           }
          ],
          "table": [
           {
            "cells": {
             "fill": {
              "color": "#EBF0F8"
             },
             "line": {
              "color": "white"
             }
            },
            "header": {
             "fill": {
              "color": "#C8D4E3"
             },
             "line": {
              "color": "white"
             }
            },
            "type": "table"
           }
          ]
         },
         "layout": {
          "annotationdefaults": {
           "arrowcolor": "#2a3f5f",
           "arrowhead": 0,
           "arrowwidth": 1
          },
          "coloraxis": {
           "colorbar": {
            "outlinewidth": 0,
            "ticks": ""
           }
          },
          "colorscale": {
           "diverging": [
            [
             0,
             "#8e0152"
            ],
            [
             0.1,
             "#c51b7d"
            ],
            [
             0.2,
             "#de77ae"
            ],
            [
             0.3,
             "#f1b6da"
            ],
            [
             0.4,
             "#fde0ef"
            ],
            [
             0.5,
             "#f7f7f7"
            ],
            [
             0.6,
             "#e6f5d0"
            ],
            [
             0.7,
             "#b8e186"
            ],
            [
             0.8,
             "#7fbc41"
            ],
            [
             0.9,
             "#4d9221"
            ],
            [
             1,
             "#276419"
            ]
           ],
           "sequential": [
            [
             0,
             "#0d0887"
            ],
            [
             0.1111111111111111,
             "#46039f"
            ],
            [
             0.2222222222222222,
             "#7201a8"
            ],
            [
             0.3333333333333333,
             "#9c179e"
            ],
            [
             0.4444444444444444,
             "#bd3786"
            ],
            [
             0.5555555555555556,
             "#d8576b"
            ],
            [
             0.6666666666666666,
             "#ed7953"
            ],
            [
             0.7777777777777778,
             "#fb9f3a"
            ],
            [
             0.8888888888888888,
             "#fdca26"
            ],
            [
             1,
             "#f0f921"
            ]
           ],
           "sequentialminus": [
            [
             0,
             "#0d0887"
            ],
            [
             0.1111111111111111,
             "#46039f"
            ],
            [
             0.2222222222222222,
             "#7201a8"
            ],
            [
             0.3333333333333333,
             "#9c179e"
            ],
            [
             0.4444444444444444,
             "#bd3786"
            ],
            [
             0.5555555555555556,
             "#d8576b"
            ],
            [
             0.6666666666666666,
             "#ed7953"
            ],
            [
             0.7777777777777778,
             "#fb9f3a"
            ],
            [
             0.8888888888888888,
             "#fdca26"
            ],
            [
             1,
             "#f0f921"
            ]
           ]
          },
          "colorway": [
           "#636efa",
           "#EF553B",
           "#00cc96",
           "#ab63fa",
           "#FFA15A",
           "#19d3f3",
           "#FF6692",
           "#B6E880",
           "#FF97FF",
           "#FECB52"
          ],
          "font": {
           "color": "#2a3f5f"
          },
          "geo": {
           "bgcolor": "white",
           "lakecolor": "white",
           "landcolor": "#E5ECF6",
           "showlakes": true,
           "showland": true,
           "subunitcolor": "white"
          },
          "hoverlabel": {
           "align": "left"
          },
          "hovermode": "closest",
          "mapbox": {
           "style": "light"
          },
          "paper_bgcolor": "white",
          "plot_bgcolor": "#E5ECF6",
          "polar": {
           "angularaxis": {
            "gridcolor": "white",
            "linecolor": "white",
            "ticks": ""
           },
           "bgcolor": "#E5ECF6",
           "radialaxis": {
            "gridcolor": "white",
            "linecolor": "white",
            "ticks": ""
           }
          },
          "scene": {
           "xaxis": {
            "backgroundcolor": "#E5ECF6",
            "gridcolor": "white",
            "gridwidth": 2,
            "linecolor": "white",
            "showbackground": true,
            "ticks": "",
            "zerolinecolor": "white"
           },
           "yaxis": {
            "backgroundcolor": "#E5ECF6",
            "gridcolor": "white",
            "gridwidth": 2,
            "linecolor": "white",
            "showbackground": true,
            "ticks": "",
            "zerolinecolor": "white"
           },
           "zaxis": {
            "backgroundcolor": "#E5ECF6",
            "gridcolor": "white",
            "gridwidth": 2,
            "linecolor": "white",
            "showbackground": true,
            "ticks": "",
            "zerolinecolor": "white"
           }
          },
          "shapedefaults": {
           "line": {
            "color": "#2a3f5f"
           }
          },
          "ternary": {
           "aaxis": {
            "gridcolor": "white",
            "linecolor": "white",
            "ticks": ""
           },
           "baxis": {
            "gridcolor": "white",
            "linecolor": "white",
            "ticks": ""
           },
           "bgcolor": "#E5ECF6",
           "caxis": {
            "gridcolor": "white",
            "linecolor": "white",
            "ticks": ""
           }
          },
          "title": {
           "x": 0.05
          },
          "xaxis": {
           "automargin": true,
           "gridcolor": "white",
           "linecolor": "white",
           "ticks": "",
           "title": {
            "standoff": 15
           },
           "zerolinecolor": "white",
           "zerolinewidth": 2
          },
          "yaxis": {
           "automargin": true,
           "gridcolor": "white",
           "linecolor": "white",
           "ticks": "",
           "title": {
            "standoff": 15
           },
           "zerolinecolor": "white",
           "zerolinewidth": 2
          }
         }
        }
       }
      },
      "text/html": [
       "<div>\n",
       "        \n",
       "        \n",
       "            <div id=\"dc3cfd7a-4a95-4b3e-9a7c-3ad529cd9d4c\" class=\"plotly-graph-div\" style=\"height:525px; width:100%;\"></div>\n",
       "            <script type=\"text/javascript\">\n",
       "                require([\"plotly\"], function(Plotly) {\n",
       "                    window.PLOTLYENV=window.PLOTLYENV || {};\n",
       "                    \n",
       "                if (document.getElementById(\"dc3cfd7a-4a95-4b3e-9a7c-3ad529cd9d4c\")) {\n",
       "                    Plotly.newPlot(\n",
       "                        'dc3cfd7a-4a95-4b3e-9a7c-3ad529cd9d4c',\n",
       "                        [{\"name\": \"In Poverty\", \"type\": \"bar\", \"x\": [\"%Pop in Rural Areas\", \"Population Growth\", \"Fertility\", \"Life Expectancy\", \"Mortality Rate\"], \"y\": [0.022568, 0.215784, 0.501145, 0.147391, 0.037497, 1e-05, 2.8e-05, 3.2e-05, 1.2e-05, 0.0]}, {\"name\": \"Emerged\", \"type\": \"bar\", \"x\": [\"%Pop in Rural Areas\", \"Population Growth\", \"Fertility\", \"Life Expectancy\", \"Mortality Rate\"], \"y\": [0.04298085848313405, 0.09470158828932039, 0.2980533027316138, 0.2143294341299222, 0.2885740518755898, 0.018796491317482317, 0.00018380856363333118, 0.02449255875396018, 0.007834407868325476, 0.010053497987018455]}],\n",
       "                        {\"barmode\": \"group\", \"template\": {\"data\": {\"bar\": [{\"error_x\": {\"color\": \"#2a3f5f\"}, \"error_y\": {\"color\": \"#2a3f5f\"}, \"marker\": {\"line\": {\"color\": \"#E5ECF6\", \"width\": 0.5}}, \"type\": \"bar\"}], \"barpolar\": [{\"marker\": {\"line\": {\"color\": \"#E5ECF6\", \"width\": 0.5}}, \"type\": \"barpolar\"}], \"carpet\": [{\"aaxis\": {\"endlinecolor\": \"#2a3f5f\", \"gridcolor\": \"white\", \"linecolor\": \"white\", \"minorgridcolor\": \"white\", \"startlinecolor\": \"#2a3f5f\"}, \"baxis\": {\"endlinecolor\": \"#2a3f5f\", \"gridcolor\": \"white\", \"linecolor\": \"white\", \"minorgridcolor\": \"white\", \"startlinecolor\": \"#2a3f5f\"}, \"type\": \"carpet\"}], \"choropleth\": [{\"colorbar\": {\"outlinewidth\": 0, \"ticks\": \"\"}, \"type\": \"choropleth\"}], \"contour\": [{\"colorbar\": {\"outlinewidth\": 0, \"ticks\": \"\"}, \"colorscale\": [[0.0, \"#0d0887\"], [0.1111111111111111, \"#46039f\"], [0.2222222222222222, \"#7201a8\"], [0.3333333333333333, \"#9c179e\"], [0.4444444444444444, \"#bd3786\"], [0.5555555555555556, \"#d8576b\"], [0.6666666666666666, \"#ed7953\"], [0.7777777777777778, \"#fb9f3a\"], [0.8888888888888888, \"#fdca26\"], [1.0, \"#f0f921\"]], \"type\": \"contour\"}], \"contourcarpet\": [{\"colorbar\": {\"outlinewidth\": 0, \"ticks\": \"\"}, \"type\": \"contourcarpet\"}], \"heatmap\": [{\"colorbar\": {\"outlinewidth\": 0, \"ticks\": \"\"}, \"colorscale\": [[0.0, \"#0d0887\"], [0.1111111111111111, \"#46039f\"], [0.2222222222222222, \"#7201a8\"], [0.3333333333333333, \"#9c179e\"], [0.4444444444444444, \"#bd3786\"], [0.5555555555555556, \"#d8576b\"], [0.6666666666666666, \"#ed7953\"], [0.7777777777777778, \"#fb9f3a\"], [0.8888888888888888, \"#fdca26\"], [1.0, \"#f0f921\"]], \"type\": \"heatmap\"}], \"heatmapgl\": [{\"colorbar\": {\"outlinewidth\": 0, \"ticks\": \"\"}, \"colorscale\": [[0.0, \"#0d0887\"], [0.1111111111111111, \"#46039f\"], [0.2222222222222222, \"#7201a8\"], [0.3333333333333333, \"#9c179e\"], [0.4444444444444444, \"#bd3786\"], [0.5555555555555556, \"#d8576b\"], [0.6666666666666666, \"#ed7953\"], [0.7777777777777778, \"#fb9f3a\"], [0.8888888888888888, \"#fdca26\"], [1.0, \"#f0f921\"]], \"type\": \"heatmapgl\"}], \"histogram\": [{\"marker\": {\"colorbar\": {\"outlinewidth\": 0, \"ticks\": \"\"}}, \"type\": \"histogram\"}], \"histogram2d\": [{\"colorbar\": {\"outlinewidth\": 0, \"ticks\": \"\"}, \"colorscale\": [[0.0, \"#0d0887\"], [0.1111111111111111, \"#46039f\"], [0.2222222222222222, \"#7201a8\"], [0.3333333333333333, \"#9c179e\"], [0.4444444444444444, \"#bd3786\"], [0.5555555555555556, \"#d8576b\"], [0.6666666666666666, \"#ed7953\"], [0.7777777777777778, \"#fb9f3a\"], [0.8888888888888888, \"#fdca26\"], [1.0, \"#f0f921\"]], \"type\": \"histogram2d\"}], \"histogram2dcontour\": [{\"colorbar\": {\"outlinewidth\": 0, \"ticks\": \"\"}, \"colorscale\": [[0.0, \"#0d0887\"], [0.1111111111111111, \"#46039f\"], [0.2222222222222222, \"#7201a8\"], [0.3333333333333333, \"#9c179e\"], [0.4444444444444444, \"#bd3786\"], [0.5555555555555556, \"#d8576b\"], [0.6666666666666666, \"#ed7953\"], [0.7777777777777778, \"#fb9f3a\"], [0.8888888888888888, \"#fdca26\"], [1.0, \"#f0f921\"]], \"type\": \"histogram2dcontour\"}], \"mesh3d\": [{\"colorbar\": {\"outlinewidth\": 0, \"ticks\": \"\"}, \"type\": \"mesh3d\"}], \"parcoords\": [{\"line\": {\"colorbar\": {\"outlinewidth\": 0, \"ticks\": \"\"}}, \"type\": \"parcoords\"}], \"pie\": [{\"automargin\": true, \"type\": \"pie\"}], \"scatter\": [{\"marker\": {\"colorbar\": {\"outlinewidth\": 0, \"ticks\": \"\"}}, \"type\": \"scatter\"}], \"scatter3d\": [{\"line\": {\"colorbar\": {\"outlinewidth\": 0, \"ticks\": \"\"}}, \"marker\": {\"colorbar\": {\"outlinewidth\": 0, \"ticks\": \"\"}}, \"type\": \"scatter3d\"}], \"scattercarpet\": [{\"marker\": {\"colorbar\": {\"outlinewidth\": 0, \"ticks\": \"\"}}, \"type\": \"scattercarpet\"}], \"scattergeo\": [{\"marker\": {\"colorbar\": {\"outlinewidth\": 0, \"ticks\": \"\"}}, \"type\": \"scattergeo\"}], \"scattergl\": [{\"marker\": {\"colorbar\": {\"outlinewidth\": 0, \"ticks\": \"\"}}, \"type\": \"scattergl\"}], \"scattermapbox\": [{\"marker\": {\"colorbar\": {\"outlinewidth\": 0, \"ticks\": \"\"}}, \"type\": \"scattermapbox\"}], \"scatterpolar\": [{\"marker\": {\"colorbar\": {\"outlinewidth\": 0, \"ticks\": \"\"}}, \"type\": \"scatterpolar\"}], \"scatterpolargl\": [{\"marker\": {\"colorbar\": {\"outlinewidth\": 0, \"ticks\": \"\"}}, \"type\": \"scatterpolargl\"}], \"scatterternary\": [{\"marker\": {\"colorbar\": {\"outlinewidth\": 0, \"ticks\": \"\"}}, \"type\": \"scatterternary\"}], \"surface\": [{\"colorbar\": {\"outlinewidth\": 0, \"ticks\": \"\"}, \"colorscale\": [[0.0, \"#0d0887\"], [0.1111111111111111, \"#46039f\"], [0.2222222222222222, \"#7201a8\"], [0.3333333333333333, \"#9c179e\"], [0.4444444444444444, \"#bd3786\"], [0.5555555555555556, \"#d8576b\"], [0.6666666666666666, \"#ed7953\"], [0.7777777777777778, \"#fb9f3a\"], [0.8888888888888888, \"#fdca26\"], [1.0, \"#f0f921\"]], \"type\": \"surface\"}], \"table\": [{\"cells\": {\"fill\": {\"color\": \"#EBF0F8\"}, \"line\": {\"color\": \"white\"}}, \"header\": {\"fill\": {\"color\": \"#C8D4E3\"}, \"line\": {\"color\": \"white\"}}, \"type\": \"table\"}]}, \"layout\": {\"annotationdefaults\": {\"arrowcolor\": \"#2a3f5f\", \"arrowhead\": 0, \"arrowwidth\": 1}, \"coloraxis\": {\"colorbar\": {\"outlinewidth\": 0, \"ticks\": \"\"}}, \"colorscale\": {\"diverging\": [[0, \"#8e0152\"], [0.1, \"#c51b7d\"], [0.2, \"#de77ae\"], [0.3, \"#f1b6da\"], [0.4, \"#fde0ef\"], [0.5, \"#f7f7f7\"], [0.6, \"#e6f5d0\"], [0.7, \"#b8e186\"], [0.8, \"#7fbc41\"], [0.9, \"#4d9221\"], [1, \"#276419\"]], \"sequential\": [[0.0, \"#0d0887\"], [0.1111111111111111, \"#46039f\"], [0.2222222222222222, \"#7201a8\"], [0.3333333333333333, \"#9c179e\"], [0.4444444444444444, \"#bd3786\"], [0.5555555555555556, \"#d8576b\"], [0.6666666666666666, \"#ed7953\"], [0.7777777777777778, \"#fb9f3a\"], [0.8888888888888888, \"#fdca26\"], [1.0, \"#f0f921\"]], \"sequentialminus\": [[0.0, \"#0d0887\"], [0.1111111111111111, \"#46039f\"], [0.2222222222222222, \"#7201a8\"], [0.3333333333333333, \"#9c179e\"], [0.4444444444444444, \"#bd3786\"], [0.5555555555555556, \"#d8576b\"], [0.6666666666666666, \"#ed7953\"], [0.7777777777777778, \"#fb9f3a\"], [0.8888888888888888, \"#fdca26\"], [1.0, \"#f0f921\"]]}, \"colorway\": [\"#636efa\", \"#EF553B\", \"#00cc96\", \"#ab63fa\", \"#FFA15A\", \"#19d3f3\", \"#FF6692\", \"#B6E880\", \"#FF97FF\", \"#FECB52\"], \"font\": {\"color\": \"#2a3f5f\"}, \"geo\": {\"bgcolor\": \"white\", \"lakecolor\": \"white\", \"landcolor\": \"#E5ECF6\", \"showlakes\": true, \"showland\": true, \"subunitcolor\": \"white\"}, \"hoverlabel\": {\"align\": \"left\"}, \"hovermode\": \"closest\", \"mapbox\": {\"style\": \"light\"}, \"paper_bgcolor\": \"white\", \"plot_bgcolor\": \"#E5ECF6\", \"polar\": {\"angularaxis\": {\"gridcolor\": \"white\", \"linecolor\": \"white\", \"ticks\": \"\"}, \"bgcolor\": \"#E5ECF6\", \"radialaxis\": {\"gridcolor\": \"white\", \"linecolor\": \"white\", \"ticks\": \"\"}}, \"scene\": {\"xaxis\": {\"backgroundcolor\": \"#E5ECF6\", \"gridcolor\": \"white\", \"gridwidth\": 2, \"linecolor\": \"white\", \"showbackground\": true, \"ticks\": \"\", \"zerolinecolor\": \"white\"}, \"yaxis\": {\"backgroundcolor\": \"#E5ECF6\", \"gridcolor\": \"white\", \"gridwidth\": 2, \"linecolor\": \"white\", \"showbackground\": true, \"ticks\": \"\", \"zerolinecolor\": \"white\"}, \"zaxis\": {\"backgroundcolor\": \"#E5ECF6\", \"gridcolor\": \"white\", \"gridwidth\": 2, \"linecolor\": \"white\", \"showbackground\": true, \"ticks\": \"\", \"zerolinecolor\": \"white\"}}, \"shapedefaults\": {\"line\": {\"color\": \"#2a3f5f\"}}, \"ternary\": {\"aaxis\": {\"gridcolor\": \"white\", \"linecolor\": \"white\", \"ticks\": \"\"}, \"baxis\": {\"gridcolor\": \"white\", \"linecolor\": \"white\", \"ticks\": \"\"}, \"bgcolor\": \"#E5ECF6\", \"caxis\": {\"gridcolor\": \"white\", \"linecolor\": \"white\", \"ticks\": \"\"}}, \"title\": {\"x\": 0.05}, \"xaxis\": {\"automargin\": true, \"gridcolor\": \"white\", \"linecolor\": \"white\", \"ticks\": \"\", \"title\": {\"standoff\": 15}, \"zerolinecolor\": \"white\", \"zerolinewidth\": 2}, \"yaxis\": {\"automargin\": true, \"gridcolor\": \"white\", \"linecolor\": \"white\", \"ticks\": \"\", \"title\": {\"standoff\": 15}, \"zerolinecolor\": \"white\", \"zerolinewidth\": 2}}}},\n",
       "                        {\"responsive\": true}\n",
       "                    ).then(function(){\n",
       "                            \n",
       "var gd = document.getElementById('dc3cfd7a-4a95-4b3e-9a7c-3ad529cd9d4c');\n",
       "var x = new MutationObserver(function (mutations, observer) {{\n",
       "        var display = window.getComputedStyle(gd).display;\n",
       "        if (!display || display === 'none') {{\n",
       "            console.log([gd, 'removed!']);\n",
       "            Plotly.purge(gd);\n",
       "            observer.disconnect();\n",
       "        }}\n",
       "}});\n",
       "\n",
       "// Listen for the removal of the full notebook cells\n",
       "var notebookContainer = gd.closest('#notebook-container');\n",
       "if (notebookContainer) {{\n",
       "    x.observe(notebookContainer, {childList: true});\n",
       "}}\n",
       "\n",
       "// Listen for the clearing of the current output cell\n",
       "var outputEl = gd.closest('.output');\n",
       "if (outputEl) {{\n",
       "    x.observe(outputEl, {childList: true});\n",
       "}}\n",
       "\n",
       "                        })\n",
       "                };\n",
       "                });\n",
       "            </script>\n",
       "        </div>"
      ]
     },
     "metadata": {},
     "output_type": "display_data"
    }
   ],
   "source": [
    "import plotly.graph_objects as go\n",
    "# TRANSFORM DATA FOR BAR PLOT\n",
    "Features = ['%Pop in Rural Areas', 'Population Growth', 'Fertility', 'Life Expectancy', 'Mortality Rate']\n",
    "selectKBest_df['f-classif'] = np.abs(selectKBest_df['f-classif'])/np.abs(selectKBest_df['f-classif']).sum()\n",
    "bar_emerge = selectKBest_df.sort_values(by='Features', ascending=False)['f-classif'].tolist()\n",
    "bar_poverty = q2_weights[q2_weights.col != 'TIME'].sort_values(by='col', ascending=False)['relative'].to_list()\n",
    "\n",
    "# PLOT\n",
    "fig = go.Figure(data=[\n",
    "    go.Bar(name='In Poverty', x=Features, y=bar_poverty),\n",
    "    go.Bar(name='Emerged', x=Features, y=bar_emerge)\n",
    "])\n",
    "fig.update_layout(barmode='group')\n",
    "fig.show()"
   ]
  },
  {
   "cell_type": "markdown",
   "metadata": {},
   "source": [
    "# Conclusions"
   ]
  },
  {
   "cell_type": "markdown",
   "metadata": {},
   "source": []
  }
 ],
 "metadata": {
  "kernelspec": {
   "display_name": "Python 3",
   "language": "python",
   "name": "python3"
  },
  "language_info": {
   "codemirror_mode": {
    "name": "ipython",
    "version": 3
   },
   "file_extension": ".py",
   "mimetype": "text/x-python",
   "name": "python",
   "nbconvert_exporter": "python",
   "pygments_lexer": "ipython3",
   "version": "3.7.4"
  }
 },
 "nbformat": 4,
 "nbformat_minor": 2
}
